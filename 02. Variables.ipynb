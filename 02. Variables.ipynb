{
 "cells": [
  {
   "cell_type": "markdown",
   "id": "35b37b74",
   "metadata": {},
   "source": [
    "# Variables\n",
    "Variables are containers for storing data values\n",
    "Variables are a memory used to store some data(value)\n",
    "In python variables are dynamic (we dont even have to declare the type of variable)"
   ]
  },
  {
   "cell_type": "markdown",
   "id": "f06001e2",
   "metadata": {},
   "source": [
    "## Rules in naming a variable\n",
    "1. A variable name must start with a letter or an underscore character\n",
    "2. Variable name cannot start with a number\n",
    "3. Variable name can only contain an alpha numeric characters (a1-accepted, 1a-not accepted) and underscores(A-z, 0-9, and _)\n",
    "4. A variable accepts only underscore_ symbol\n",
    "5. Variable names are case sensitive\n",
    "6. It cant accept reserve/key word"
   ]
  },
  {
   "cell_type": "markdown",
   "id": "bd79fb9f",
   "metadata": {},
   "source": [
    "### Terms used in variables\n",
    "Value\n",
    "Object\n",
    "Address\n",
    "Data Type"
   ]
  },
  {
   "cell_type": "markdown",
   "id": "0f4c451d",
   "metadata": {},
   "source": [
    "List of keywords:['False','None','True','']"
   ]
  },
  {
   "cell_type": "markdown",
   "id": "43c87a69",
   "metadata": {},
   "source": [
    "# Variable assignments"
   ]
  },
  {
   "cell_type": "markdown",
   "id": "54c91ef1",
   "metadata": {},
   "source": [
    "## Single line variables"
   ]
  },
  {
   "cell_type": "code",
   "execution_count": 1,
   "id": "33385074",
   "metadata": {},
   "outputs": [
    {
     "name": "stdout",
     "output_type": "stream",
     "text": [
      "20\n"
     ]
    }
   ],
   "source": [
    "#For printing just values:\n",
    "print(20)"
   ]
  },
  {
   "cell_type": "code",
   "execution_count": 2,
   "id": "a83d7b2b",
   "metadata": {},
   "outputs": [
    {
     "name": "stdout",
     "output_type": "stream",
     "text": [
      "20\n"
     ]
    }
   ],
   "source": [
    "#For saving and printing values variables are used\n",
    "a=20\n",
    "print(a)"
   ]
  },
  {
   "cell_type": "code",
   "execution_count": 3,
   "id": "03a96ea2",
   "metadata": {},
   "outputs": [
    {
     "name": "stdout",
     "output_type": "stream",
     "text": [
      "9\n"
     ]
    }
   ],
   "source": [
    "#This is the first variable asignment\n",
    "a=9\n",
    "print(a)\n",
    "#first the value is created and then the variable is assigned"
   ]
  },
  {
   "cell_type": "code",
   "execution_count": 4,
   "id": "5cc69ede",
   "metadata": {},
   "outputs": [
    {
     "name": "stdout",
     "output_type": "stream",
     "text": [
      "2.0\n"
     ]
    }
   ],
   "source": [
    "A=2.0\n",
    "print(A)"
   ]
  },
  {
   "cell_type": "code",
   "execution_count": 5,
   "id": "640b0f0d",
   "metadata": {},
   "outputs": [
    {
     "ename": "NameError",
     "evalue": "name 'c' is not defined",
     "output_type": "error",
     "traceback": [
      "\u001b[0;31m---------------------------------------------------------------------------\u001b[0m",
      "\u001b[0;31mNameError\u001b[0m                                 Traceback (most recent call last)",
      "Cell \u001b[0;32mIn[5], line 1\u001b[0m\n\u001b[0;32m----> 1\u001b[0m \u001b[38;5;28mprint\u001b[39m(c)\n",
      "\u001b[0;31mNameError\u001b[0m: name 'c' is not defined"
     ]
    }
   ],
   "source": [
    "print(c)\n",
    "#Error type: 1.Name Error"
   ]
  },
  {
   "cell_type": "code",
   "execution_count": null,
   "id": "ae21df11",
   "metadata": {},
   "outputs": [],
   "source": [
    "c=45\n",
    "print(c)"
   ]
  },
  {
   "cell_type": "code",
   "execution_count": null,
   "id": "dbb5b9a2",
   "metadata": {},
   "outputs": [],
   "source": [
    "z=\"Ayesha\"\n",
    "print(z)\n",
    "# Values are of two types\n",
    "    #1.Numeric\n",
    "        #a. Without decimals\n",
    "        #b. With decimals\n",
    "    #2. Text\n",
    "        #Whenever a text value is assigned to a variable it must be in quotations(inverted commas)"
   ]
  },
  {
   "cell_type": "code",
   "execution_count": null,
   "id": "25c6fdc9",
   "metadata": {},
   "outputs": [],
   "source": [
    "a1=40\n",
    "print(a1)"
   ]
  },
  {
   "cell_type": "code",
   "execution_count": null,
   "id": "92119c18",
   "metadata": {},
   "outputs": [],
   "source": [
    "a_1=20\n",
    "print(a_1)"
   ]
  },
  {
   "cell_type": "code",
   "execution_count": null,
   "id": "41b6f8e1",
   "metadata": {},
   "outputs": [],
   "source": [
    "1a=30\n",
    "print(1a)\n",
    "#Error type: 2 Syntax error\n",
    "#variables are always alphanumeric"
   ]
  },
  {
   "cell_type": "code",
   "execution_count": null,
   "id": "1355f3c6",
   "metadata": {},
   "outputs": [],
   "source": [
    "if=3 \n",
    "#keywords cannot be used as the variable name"
   ]
  },
  {
   "cell_type": "markdown",
   "id": "d5bbdcb2",
   "metadata": {},
   "source": [
    "## Multiple Variables"
   ]
  },
  {
   "cell_type": "code",
   "execution_count": null,
   "id": "1a0fffc3",
   "metadata": {},
   "outputs": [],
   "source": [
    "a,b,c=10,20,30\n",
    "print(a)\n",
    "print(b)\n",
    "print(c)\n",
    "#Make sure the number of variables matches the number of values"
   ]
  },
  {
   "cell_type": "markdown",
   "id": "5b636edf",
   "metadata": {},
   "source": [
    "## One value to multiple variables"
   ]
  },
  {
   "cell_type": "code",
   "execution_count": 1,
   "id": "0db6c018",
   "metadata": {},
   "outputs": [
    {
     "name": "stdout",
     "output_type": "stream",
     "text": [
      "Ayesha\n",
      "Ayesha\n",
      "Ayesha\n"
     ]
    },
    {
     "data": {
      "text/plain": [
       "4373664432"
      ]
     },
     "execution_count": 1,
     "metadata": {},
     "output_type": "execute_result"
    }
   ],
   "source": [
    "a=b=c=\"Ayesha\"\n",
    "print(a)\n",
    "print(b)\n",
    "print(c)\n",
    "id(a)"
   ]
  },
  {
   "cell_type": "markdown",
   "id": "d332f20f",
   "metadata": {},
   "source": [
    "Note: \n",
    "In Python, the objects are created based on values and not based on variable names\n",
    "For one value, only one object is assigned but it can have infinate names(memory efficient). Check ids\n"
   ]
  },
  {
   "cell_type": "code",
   "execution_count": 2,
   "id": "e37d936e",
   "metadata": {},
   "outputs": [
    {
     "name": "stdout",
     "output_type": "stream",
     "text": [
      "40\n",
      "40\n"
     ]
    },
    {
     "data": {
      "text/plain": [
       "4309969336"
      ]
     },
     "execution_count": 2,
     "metadata": {},
     "output_type": "execute_result"
    }
   ],
   "source": [
    "w=40\n",
    "y=40\n",
    "print(w)\n",
    "print(y)\n",
    "id(w)"
   ]
  },
  {
   "cell_type": "code",
   "execution_count": null,
   "id": "ba804d00",
   "metadata": {},
   "outputs": [],
   "source": [
    "id(y)"
   ]
  },
  {
   "cell_type": "code",
   "execution_count": null,
   "id": "06e1ec69",
   "metadata": {},
   "outputs": [],
   "source": [
    "k=\"kulsum\"\n",
    "id(k)"
   ]
  },
  {
   "cell_type": "code",
   "execution_count": null,
   "id": "cb64b7fd",
   "metadata": {},
   "outputs": [],
   "source": [
    "k=78\n",
    "id(k)"
   ]
  },
  {
   "cell_type": "markdown",
   "id": "cb04bed9",
   "metadata": {},
   "source": [
    "In python, latest values are stored"
   ]
  },
  {
   "cell_type": "code",
   "execution_count": 3,
   "id": "5c894ed6",
   "metadata": {},
   "outputs": [
    {
     "name": "stdout",
     "output_type": "stream",
     "text": [
      "5\n"
     ]
    }
   ],
   "source": [
    "a=1\n",
    "c=2\n",
    "b=3\n",
    "c=5\n",
    "b=8\n",
    "print(c)"
   ]
  },
  {
   "cell_type": "markdown",
   "id": "f9c8111e",
   "metadata": {},
   "source": [
    "# Order of execution??"
   ]
  },
  {
   "cell_type": "code",
   "execution_count": null,
   "id": "f3bea9a8",
   "metadata": {},
   "outputs": [],
   "source": [
    "a=4"
   ]
  },
  {
   "cell_type": "code",
   "execution_count": null,
   "id": "b4692d00",
   "metadata": {},
   "outputs": [],
   "source": [
    "a=5"
   ]
  },
  {
   "cell_type": "code",
   "execution_count": null,
   "id": "a10073d6",
   "metadata": {},
   "outputs": [],
   "source": [
    "print(a)"
   ]
  },
  {
   "cell_type": "code",
   "execution_count": null,
   "id": "cf63cd59",
   "metadata": {},
   "outputs": [],
   "source": [
    "a=10\n",
    "del a\n",
    "print(a)"
   ]
  },
  {
   "cell_type": "code",
   "execution_count": null,
   "id": "a8776ef9",
   "metadata": {},
   "outputs": [],
   "source": [
    "a=10\n",
    "b=20\n",
    "c=30\n",
    "del a,b\n",
    "print(c)"
   ]
  }
 ],
 "metadata": {
  "kernelspec": {
   "display_name": "Python 3 (ipykernel)",
   "language": "python",
   "name": "python3"
  },
  "language_info": {
   "codemirror_mode": {
    "name": "ipython",
    "version": 3
   },
   "file_extension": ".py",
   "mimetype": "text/x-python",
   "name": "python",
   "nbconvert_exporter": "python",
   "pygments_lexer": "ipython3",
   "version": "3.11.5"
  }
 },
 "nbformat": 4,
 "nbformat_minor": 5
}
