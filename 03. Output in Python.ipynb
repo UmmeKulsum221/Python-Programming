{
 "cells": [
  {
   "cell_type": "markdown",
   "id": "ce8fe55b",
   "metadata": {},
   "source": [
    "Python has 2 funtions\n",
    "1. In built functions\n",
    "2. user defined functions"
   ]
  },
  {
   "cell_type": "markdown",
   "id": "e9e5d624",
   "metadata": {},
   "source": [
    "python syntax for print\n",
    "1. print(values)\n",
    "2. print(variables)\n",
    "3. print(value1, val 2...)\n",
    "4. print(var1, var2,...)\n",
    "5. print(combination of all the above)"
   ]
  },
  {
   "cell_type": "markdown",
   "id": "67477fe3",
   "metadata": {},
   "source": [
    "#### Printing Value"
   ]
  },
  {
   "cell_type": "code",
   "execution_count": 1,
   "id": "455d0d50",
   "metadata": {},
   "outputs": [
    {
     "name": "stdout",
     "output_type": "stream",
     "text": [
      "10\n"
     ]
    }
   ],
   "source": [
    "print(10)"
   ]
  },
  {
   "cell_type": "markdown",
   "id": "3fae2ce3",
   "metadata": {},
   "source": [
    "#### Printing Text"
   ]
  },
  {
   "cell_type": "code",
   "execution_count": 2,
   "id": "505e491a",
   "metadata": {},
   "outputs": [
    {
     "name": "stdout",
     "output_type": "stream",
     "text": [
      "Zeba\n"
     ]
    }
   ],
   "source": [
    "print(\"Zeba\")"
   ]
  },
  {
   "cell_type": "markdown",
   "id": "5e7293b2",
   "metadata": {},
   "source": [
    "#### Printing Variable"
   ]
  },
  {
   "cell_type": "code",
   "execution_count": 3,
   "id": "fc489714",
   "metadata": {},
   "outputs": [
    {
     "name": "stdout",
     "output_type": "stream",
     "text": [
      "10\n"
     ]
    }
   ],
   "source": [
    "a=10\n",
    "print(a)"
   ]
  },
  {
   "cell_type": "markdown",
   "id": "a4807d55",
   "metadata": {},
   "source": [
    "#### Printing multiple varibles"
   ]
  },
  {
   "cell_type": "code",
   "execution_count": 4,
   "id": "70aacc32",
   "metadata": {},
   "outputs": [
    {
     "name": "stdout",
     "output_type": "stream",
     "text": [
      "10 & 20 & 30 & 40\n"
     ]
    }
   ],
   "source": [
    "a=10\n",
    "b=20\n",
    "c=30\n",
    "d=40\n",
    "print(a,b,c,d,sep=\" & \")"
   ]
  },
  {
   "cell_type": "code",
   "execution_count": 5,
   "id": "e0e40143",
   "metadata": {},
   "outputs": [
    {
     "name": "stdout",
     "output_type": "stream",
     "text": [
      "10 20 30 40\n"
     ]
    }
   ],
   "source": [
    "print(10,20,30,40)"
   ]
  },
  {
   "cell_type": "code",
   "execution_count": 6,
   "id": "03940b93",
   "metadata": {},
   "outputs": [
    {
     "name": "stdout",
     "output_type": "stream",
     "text": [
      "The value of a:  100\n"
     ]
    }
   ],
   "source": [
    "a=100\n",
    "print(\"The value of a: \",a)"
   ]
  },
  {
   "cell_type": "markdown",
   "id": "42a45f6e",
   "metadata": {},
   "source": [
    "#### Printing Combinations"
   ]
  },
  {
   "cell_type": "code",
   "execution_count": 7,
   "id": "c985cf1a",
   "metadata": {},
   "outputs": [
    {
     "name": "stdout",
     "output_type": "stream",
     "text": [
      "7856 393\n"
     ]
    }
   ],
   "source": [
    "l=393\n",
    "print(7856, l)"
   ]
  },
  {
   "cell_type": "code",
   "execution_count": 8,
   "id": "2d1c7332",
   "metadata": {},
   "outputs": [
    {
     "name": "stdout",
     "output_type": "stream",
     "text": [
      "My name is:  Sana and my age is:  12\n"
     ]
    }
   ],
   "source": [
    "num=12\n",
    "name=\"Sana\"\n",
    "print(\"My name is: \", name, \"and my age is: \", num)"
   ]
  },
  {
   "cell_type": "code",
   "execution_count": 9,
   "id": "b9add891",
   "metadata": {},
   "outputs": [
    {
     "name": "stdout",
     "output_type": "stream",
     "text": [
      "My name is: Sana and my age is: 12\n"
     ]
    }
   ],
   "source": [
    "print(\"My name is: {} and my age is: {}\".format(name,num))"
   ]
  },
  {
   "cell_type": "code",
   "execution_count": 10,
   "id": "67e10037",
   "metadata": {},
   "outputs": [
    {
     "name": "stdout",
     "output_type": "stream",
     "text": [
      "My name is: Sana and my age is: 12\n"
     ]
    }
   ],
   "source": [
    "print(\"My name is: {x} and my age is: {y}\".format(x=name,y=num))"
   ]
  },
  {
   "cell_type": "code",
   "execution_count": 11,
   "id": "67937fe2",
   "metadata": {},
   "outputs": [
    {
     "name": "stdout",
     "output_type": "stream",
     "text": [
      "Navin's Laptop\n"
     ]
    }
   ],
   "source": [
    "print(\"Navin's Laptop\")"
   ]
  }
 ],
 "metadata": {
  "kernelspec": {
   "display_name": "Python 3 (ipykernel)",
   "language": "python",
   "name": "python3"
  },
  "language_info": {
   "codemirror_mode": {
    "name": "ipython",
    "version": 3
   },
   "file_extension": ".py",
   "mimetype": "text/x-python",
   "name": "python",
   "nbconvert_exporter": "python",
   "pygments_lexer": "ipython3",
   "version": "3.11.5"
  }
 },
 "nbformat": 4,
 "nbformat_minor": 5
}
