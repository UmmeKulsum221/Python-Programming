{
 "cells": [
  {
   "cell_type": "markdown",
   "id": "56aef803",
   "metadata": {},
   "source": [
    "# Sets\n",
    "- Sets can be used to perform mathematical set operations like union, intersection,symmetric difference etc"
   ]
  },
  {
   "cell_type": "markdown",
   "id": "14e1c4a5",
   "metadata": {},
   "source": [
    "### A set is a collection of unique items.\n",
    "\n",
    "It doesn’t allow duplicates.\n",
    "\n",
    "It is unordered (items don’t have a fixed position).\n",
    "\n",
    "It is mutable (you can add or remove items)."
   ]
  },
  {
   "cell_type": "markdown",
   "id": "c466a980",
   "metadata": {},
   "source": [
    "## Empty Sets"
   ]
  },
  {
   "cell_type": "code",
   "execution_count": 1,
   "id": "db11b180",
   "metadata": {},
   "outputs": [
    {
     "name": "stdout",
     "output_type": "stream",
     "text": [
      "set()\n"
     ]
    },
    {
     "data": {
      "text/plain": [
       "set"
      ]
     },
     "execution_count": 1,
     "metadata": {},
     "output_type": "execute_result"
    }
   ],
   "source": [
    "a=set()\n",
    "print(a)\n",
    "type(a)"
   ]
  },
  {
   "cell_type": "code",
   "execution_count": 2,
   "id": "a58d073d",
   "metadata": {},
   "outputs": [
    {
     "data": {
      "text/plain": [
       "dict"
      ]
     },
     "execution_count": 2,
     "metadata": {},
     "output_type": "execute_result"
    }
   ],
   "source": [
    "dictt = {}\n",
    "type(dictt)"
   ]
  },
  {
   "cell_type": "markdown",
   "id": "b66324cb",
   "metadata": {},
   "source": [
    "-Set is an unordered set of items\n",
    "-sets are enclosed in curly brackets{}"
   ]
  },
  {
   "cell_type": "code",
   "execution_count": 3,
   "id": "9b875ffb",
   "metadata": {},
   "outputs": [
    {
     "data": {
      "text/plain": [
       "{10, 120, 20, 30, 3012, 34, 40, 5, 9042, 93, 934, 'a'}"
      ]
     },
     "execution_count": 3,
     "metadata": {},
     "output_type": "execute_result"
    }
   ],
   "source": [
    "a={10,30,34,9042,934,93,120,3012,20,40,5,\"a\"}\n",
    "a"
   ]
  },
  {
   "cell_type": "markdown",
   "id": "94ee8f17",
   "metadata": {},
   "source": [
    "- Every element is unique (no duplicates)"
   ]
  },
  {
   "cell_type": "code",
   "execution_count": 5,
   "id": "cbe4a5b2",
   "metadata": {},
   "outputs": [
    {
     "data": {
      "text/plain": [
       "{1, 2, 3, 4}"
      ]
     },
     "execution_count": 5,
     "metadata": {},
     "output_type": "execute_result"
    }
   ],
   "source": [
    "b={1,1,1,1,2,2,2,2,3,3,3,4,4,4,}\n",
    "b"
   ]
  },
  {
   "cell_type": "markdown",
   "id": "d62bf5ff",
   "metadata": {},
   "source": [
    "- Sets doesnt support indexing and slicing because its unordered collection of items"
   ]
  },
  {
   "cell_type": "code",
   "execution_count": 6,
   "id": "9b85e149",
   "metadata": {},
   "outputs": [
    {
     "ename": "TypeError",
     "evalue": "'set' object is not subscriptable",
     "output_type": "error",
     "traceback": [
      "\u001b[0;31m---------------------------------------------------------------------------\u001b[0m",
      "\u001b[0;31mTypeError\u001b[0m                                 Traceback (most recent call last)",
      "Cell \u001b[0;32mIn[6], line 2\u001b[0m\n\u001b[1;32m      1\u001b[0m a\u001b[38;5;241m=\u001b[39m{\u001b[38;5;241m10\u001b[39m,\u001b[38;5;241m30\u001b[39m,\u001b[38;5;241m34\u001b[39m,\u001b[38;5;241m9042\u001b[39m,\u001b[38;5;241m934\u001b[39m,\u001b[38;5;241m93\u001b[39m,\u001b[38;5;241m120\u001b[39m,\u001b[38;5;241m3012\u001b[39m,\u001b[38;5;241m20\u001b[39m,\u001b[38;5;241m40\u001b[39m,\u001b[38;5;241m5\u001b[39m,\u001b[38;5;124m\"\u001b[39m\u001b[38;5;124ma\u001b[39m\u001b[38;5;124m\"\u001b[39m}\n\u001b[0;32m----> 2\u001b[0m \u001b[38;5;28mprint\u001b[39m(a[\u001b[38;5;241m1\u001b[39m])\n",
      "\u001b[0;31mTypeError\u001b[0m: 'set' object is not subscriptable"
     ]
    }
   ],
   "source": [
    "a={10,30,34,9042,934,93,120,3012,20,40,5,\"a\"}\n",
    "print(a[1])"
   ]
  },
  {
   "cell_type": "markdown",
   "id": "c60953d9",
   "metadata": {},
   "source": [
    "- Creating sets by using list"
   ]
  },
  {
   "cell_type": "code",
   "execution_count": 7,
   "id": "0af19ac1",
   "metadata": {},
   "outputs": [
    {
     "data": {
      "text/plain": [
       "{1, 2, 3}"
      ]
     },
     "execution_count": 7,
     "metadata": {},
     "output_type": "execute_result"
    }
   ],
   "source": [
    "l=[1,2,3,1,2,3,1,2]\n",
    "s=set(l)\n",
    "s"
   ]
  },
  {
   "cell_type": "markdown",
   "id": "ae5d58b2",
   "metadata": {},
   "source": [
    "- Creating sets by using tuples"
   ]
  },
  {
   "cell_type": "code",
   "execution_count": 8,
   "id": "6fa91368",
   "metadata": {},
   "outputs": [
    {
     "data": {
      "text/plain": [
       "{1, 2, 3, 4, 5}"
      ]
     },
     "execution_count": 8,
     "metadata": {},
     "output_type": "execute_result"
    }
   ],
   "source": [
    "t=(1,1,1,2,2,2,3,3,3,4,4,4,5)\n",
    "set(t)"
   ]
  },
  {
   "cell_type": "code",
   "execution_count": 9,
   "id": "7758538a",
   "metadata": {},
   "outputs": [
    {
     "data": {
      "text/plain": [
       "[1, 2, 3, 4, 5]"
      ]
     },
     "execution_count": 9,
     "metadata": {},
     "output_type": "execute_result"
    }
   ],
   "source": [
    "list(set(t))"
   ]
  },
  {
   "cell_type": "markdown",
   "id": "0f79db90",
   "metadata": {},
   "source": [
    "## Set Methods"
   ]
  },
  {
   "cell_type": "code",
   "execution_count": 10,
   "id": "2a1aeba0",
   "metadata": {},
   "outputs": [
    {
     "data": {
      "text/plain": [
       "set()"
      ]
     },
     "execution_count": 10,
     "metadata": {},
     "output_type": "execute_result"
    }
   ],
   "source": [
    "#sets are mutable\n",
    "c=set()\n",
    "c"
   ]
  },
  {
   "cell_type": "code",
   "execution_count": 28,
   "id": "cc4400e9",
   "metadata": {},
   "outputs": [
    {
     "data": {
      "text/plain": [
       "{3, 4, 5}"
      ]
     },
     "execution_count": 28,
     "metadata": {},
     "output_type": "execute_result"
    }
   ],
   "source": [
    "c.add(3)\n",
    "c"
   ]
  },
  {
   "cell_type": "code",
   "execution_count": 12,
   "id": "99d4c6f7",
   "metadata": {},
   "outputs": [
    {
     "name": "stdout",
     "output_type": "stream",
     "text": [
      "{3, 4, 6, 8, 'abc', 14}\n"
     ]
    }
   ],
   "source": [
    "s={3,4}\n",
    "s.update([8,6,14,\"abc\"])  #updates multiple values at once\n",
    "print(s)"
   ]
  },
  {
   "cell_type": "code",
   "execution_count": 13,
   "id": "d98fbc9c",
   "metadata": {},
   "outputs": [
    {
     "name": "stdout",
     "output_type": "stream",
     "text": [
      "{3, 4, 5, 6}\n",
      "{3, 4, 5}\n"
     ]
    }
   ],
   "source": [
    "c={3,4,5}\n",
    "d=c.copy()\n",
    "d.add(6)\n",
    "print(d)\n",
    "print(c)"
   ]
  },
  {
   "cell_type": "code",
   "execution_count": 15,
   "id": "e2247f01",
   "metadata": {},
   "outputs": [
    {
     "data": {
      "text/plain": [
       "set"
      ]
     },
     "execution_count": 15,
     "metadata": {},
     "output_type": "execute_result"
    }
   ],
   "source": [
    "s={1,2,3,4}\n",
    "s\n",
    "type(s)"
   ]
  },
  {
   "cell_type": "code",
   "execution_count": 16,
   "id": "c3885e92",
   "metadata": {},
   "outputs": [
    {
     "data": {
      "text/plain": [
       "{1, 2, 4}"
      ]
     },
     "execution_count": 16,
     "metadata": {},
     "output_type": "execute_result"
    }
   ],
   "source": [
    "s.discard(3)\n",
    "s"
   ]
  },
  {
   "cell_type": "code",
   "execution_count": 17,
   "id": "94c2a742",
   "metadata": {},
   "outputs": [
    {
     "data": {
      "text/plain": [
       "{1, 2, 4}"
      ]
     },
     "execution_count": 17,
     "metadata": {},
     "output_type": "execute_result"
    }
   ],
   "source": [
    "s.discard(8)\n",
    "s          #even though 8 is not in the set it will not give error..if it is there it removes it"
   ]
  },
  {
   "cell_type": "code",
   "execution_count": 18,
   "id": "5ce29ab2",
   "metadata": {},
   "outputs": [
    {
     "name": "stdout",
     "output_type": "stream",
     "text": [
      "{34, 4, 24, 394, 45}\n"
     ]
    }
   ],
   "source": [
    "e={394,45,45,4,24,56,56,34}\n",
    "e.remove(56)\n",
    "print(e)"
   ]
  },
  {
   "cell_type": "code",
   "execution_count": 20,
   "id": "88651fb2",
   "metadata": {},
   "outputs": [
    {
     "ename": "KeyError",
     "evalue": "534",
     "output_type": "error",
     "traceback": [
      "\u001b[0;31m---------------------------------------------------------------------------\u001b[0m",
      "\u001b[0;31mKeyError\u001b[0m                                  Traceback (most recent call last)",
      "Cell \u001b[0;32mIn[20], line 1\u001b[0m\n\u001b[0;32m----> 1\u001b[0m e\u001b[38;5;241m.\u001b[39mremove(\u001b[38;5;241m534\u001b[39m)\n\u001b[1;32m      2\u001b[0m e\n",
      "\u001b[0;31mKeyError\u001b[0m: 534"
     ]
    }
   ],
   "source": [
    "e.remove(534)\n",
    "e        #remove gives error"
   ]
  },
  {
   "cell_type": "code",
   "execution_count": 21,
   "id": "7a55cee9",
   "metadata": {},
   "outputs": [
    {
     "data": {
      "text/plain": [
       "set()"
      ]
     },
     "execution_count": 21,
     "metadata": {},
     "output_type": "execute_result"
    }
   ],
   "source": [
    "e={394,45,45,4,24,56,56,34}\n",
    "e.clear()\n",
    "e"
   ]
  },
  {
   "cell_type": "code",
   "execution_count": 22,
   "id": "7b9d8d85",
   "metadata": {},
   "outputs": [
    {
     "ename": "NameError",
     "evalue": "name 'e' is not defined",
     "output_type": "error",
     "traceback": [
      "\u001b[0;31m---------------------------------------------------------------------------\u001b[0m",
      "\u001b[0;31mNameError\u001b[0m                                 Traceback (most recent call last)",
      "Cell \u001b[0;32mIn[22], line 3\u001b[0m\n\u001b[1;32m      1\u001b[0m e\u001b[38;5;241m=\u001b[39m{\u001b[38;5;241m394\u001b[39m,\u001b[38;5;241m45\u001b[39m,\u001b[38;5;241m45\u001b[39m,\u001b[38;5;241m4\u001b[39m,\u001b[38;5;241m24\u001b[39m,\u001b[38;5;241m56\u001b[39m,\u001b[38;5;241m56\u001b[39m,\u001b[38;5;241m34\u001b[39m}\n\u001b[1;32m      2\u001b[0m \u001b[38;5;28;01mdel\u001b[39;00m e\n\u001b[0;32m----> 3\u001b[0m e\n",
      "\u001b[0;31mNameError\u001b[0m: name 'e' is not defined"
     ]
    }
   ],
   "source": [
    "e={394,45,45,4,24,56,56,34}\n",
    "del e\n",
    "e"
   ]
  },
  {
   "cell_type": "code",
   "execution_count": 26,
   "id": "ae2f94b8",
   "metadata": {},
   "outputs": [
    {
     "data": {
      "text/plain": [
       "56"
      ]
     },
     "execution_count": 26,
     "metadata": {},
     "output_type": "execute_result"
    }
   ],
   "source": [
    "eff={394,45,45,4,24,56,56}\n",
    "eff.pop()"
   ]
  },
  {
   "cell_type": "markdown",
   "id": "02e44ce3",
   "metadata": {},
   "source": [
    "## Set operations"
   ]
  },
  {
   "cell_type": "code",
   "execution_count": 29,
   "id": "f9f7d348",
   "metadata": {},
   "outputs": [
    {
     "data": {
      "text/plain": [
       "{1, 2, 3, 4, 5, 6, 7, 8, 9}"
      ]
     },
     "execution_count": 29,
     "metadata": {},
     "output_type": "execute_result"
    }
   ],
   "source": [
    "set1={1,2,3,5}\n",
    "set2={4,5,6}\n",
    "set3={7,8,9}\n",
    "\n",
    "set1.union(set2,set3)\n"
   ]
  },
  {
   "cell_type": "code",
   "execution_count": 32,
   "id": "932cff7e",
   "metadata": {},
   "outputs": [
    {
     "data": {
      "text/plain": [
       "{1, 2, 3, 5, 7, 8, 9}"
      ]
     },
     "execution_count": 32,
     "metadata": {},
     "output_type": "execute_result"
    }
   ],
   "source": [
    "set1|set3|set3\n",
    "# we can also use pipe sign"
   ]
  },
  {
   "cell_type": "code",
   "execution_count": 30,
   "id": "a7b34078",
   "metadata": {},
   "outputs": [
    {
     "data": {
      "text/plain": [
       "{5}"
      ]
     },
     "execution_count": 30,
     "metadata": {},
     "output_type": "execute_result"
    }
   ],
   "source": [
    "set1.intersection(set2)"
   ]
  },
  {
   "cell_type": "code",
   "execution_count": 33,
   "id": "044f72eb",
   "metadata": {},
   "outputs": [
    {
     "data": {
      "text/plain": [
       "{5}"
      ]
     },
     "execution_count": 33,
     "metadata": {},
     "output_type": "execute_result"
    }
   ],
   "source": [
    "set1 & set2"
   ]
  },
  {
   "cell_type": "code",
   "execution_count": 34,
   "id": "2eb96eed",
   "metadata": {},
   "outputs": [
    {
     "data": {
      "text/plain": [
       "{1, 2, 3}"
      ]
     },
     "execution_count": 34,
     "metadata": {},
     "output_type": "execute_result"
    }
   ],
   "source": [
    "set1-set2"
   ]
  },
  {
   "cell_type": "code",
   "execution_count": 35,
   "id": "ca530004",
   "metadata": {},
   "outputs": [
    {
     "data": {
      "text/plain": [
       "{4, 6}"
      ]
     },
     "execution_count": 35,
     "metadata": {},
     "output_type": "execute_result"
    }
   ],
   "source": [
    "set2-set1"
   ]
  },
  {
   "cell_type": "code",
   "execution_count": 37,
   "id": "aca6f27a",
   "metadata": {},
   "outputs": [
    {
     "data": {
      "text/plain": [
       "{1, 2, 3, 4, 6}"
      ]
     },
     "execution_count": 37,
     "metadata": {},
     "output_type": "execute_result"
    }
   ],
   "source": [
    "set1.symmetric_difference(set2)\n",
    "#Symmetric_difference() is (A union B)-(A intersection B)-- removes the common elemest"
   ]
  },
  {
   "cell_type": "code",
   "execution_count": 42,
   "id": "ea28e26d",
   "metadata": {},
   "outputs": [
    {
     "data": {
      "text/plain": [
       "{1, 2, 3, 4, 6}"
      ]
     },
     "execution_count": 42,
     "metadata": {},
     "output_type": "execute_result"
    }
   ],
   "source": [
    "set1^set2 # ^ symbol is used for symmetric intersection"
   ]
  },
  {
   "cell_type": "code",
   "execution_count": 38,
   "id": "54f84f47",
   "metadata": {},
   "outputs": [
    {
     "data": {
      "text/plain": [
       "True"
      ]
     },
     "execution_count": 38,
     "metadata": {},
     "output_type": "execute_result"
    }
   ],
   "source": [
    "c={4,5,6}\n",
    "d={3,4,5,6}\n",
    "c.issubset(d)"
   ]
  },
  {
   "cell_type": "code",
   "execution_count": 39,
   "id": "2ce6cbdf",
   "metadata": {},
   "outputs": [
    {
     "data": {
      "text/plain": [
       "False"
      ]
     },
     "execution_count": 39,
     "metadata": {},
     "output_type": "execute_result"
    }
   ],
   "source": [
    "d.issubset(c)"
   ]
  },
  {
   "cell_type": "code",
   "execution_count": 40,
   "id": "512a1b4c",
   "metadata": {},
   "outputs": [
    {
     "data": {
      "text/plain": [
       "True"
      ]
     },
     "execution_count": 40,
     "metadata": {},
     "output_type": "execute_result"
    }
   ],
   "source": [
    "d.issuperset(c)"
   ]
  },
  {
   "cell_type": "code",
   "execution_count": 41,
   "id": "a68b9d90",
   "metadata": {},
   "outputs": [
    {
     "data": {
      "text/plain": [
       "False"
      ]
     },
     "execution_count": 41,
     "metadata": {},
     "output_type": "execute_result"
    }
   ],
   "source": [
    "c.issuperset(d)"
   ]
  },
  {
   "cell_type": "code",
   "execution_count": 43,
   "id": "c09a4d12",
   "metadata": {},
   "outputs": [
    {
     "data": {
      "text/plain": [
       "False"
      ]
     },
     "execution_count": 43,
     "metadata": {},
     "output_type": "execute_result"
    }
   ],
   "source": [
    "d.isdisjoint(c)"
   ]
  },
  {
   "cell_type": "code",
   "execution_count": null,
   "id": "23b1d3ff",
   "metadata": {},
   "outputs": [],
   "source": [
    "\n"
   ]
  }
 ],
 "metadata": {
  "kernelspec": {
   "display_name": "Python 3 (ipykernel)",
   "language": "python",
   "name": "python3"
  },
  "language_info": {
   "codemirror_mode": {
    "name": "ipython",
    "version": 3
   },
   "file_extension": ".py",
   "mimetype": "text/x-python",
   "name": "python",
   "nbconvert_exporter": "python",
   "pygments_lexer": "ipython3",
   "version": "3.11.5"
  }
 },
 "nbformat": 4,
 "nbformat_minor": 5
}
