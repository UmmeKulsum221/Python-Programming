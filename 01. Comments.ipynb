{
 "cells": [
  {
   "cell_type": "markdown",
   "id": "0da9caea",
   "metadata": {},
   "source": [
    "# Comments\n",
    "Comments can be used to explain python codes\n",
    "Comments can be used to make the code more readable\n",
    "Comments are ignored during execution"
   ]
  },
  {
   "cell_type": "markdown",
   "id": "d22a816e",
   "metadata": {},
   "source": [
    "# Creating a comment"
   ]
  },
  {
   "cell_type": "markdown",
   "id": "165459c3",
   "metadata": {},
   "source": [
    "Comments start with a # and python will ignore them"
   ]
  },
  {
   "cell_type": "markdown",
   "id": "408ae21d",
   "metadata": {},
   "source": [
    "# Single Line Comments"
   ]
  },
  {
   "cell_type": "markdown",
   "id": "556e24d4",
   "metadata": {},
   "source": [
    "#This is a comment"
   ]
  },
  {
   "cell_type": "code",
   "execution_count": 1,
   "id": "8bd5489a",
   "metadata": {},
   "outputs": [
    {
     "name": "stdout",
     "output_type": "stream",
     "text": [
      "Hello World!\n"
     ]
    }
   ],
   "source": [
    "#This is a comment\n",
    "print(\"Hello World!\")"
   ]
  },
  {
   "cell_type": "code",
   "execution_count": 2,
   "id": "74ceaaf0",
   "metadata": {},
   "outputs": [
    {
     "name": "stdout",
     "output_type": "stream",
     "text": [
      "Hello World!\n"
     ]
    }
   ],
   "source": [
    "print(\"Hello World!\") #This is a comment"
   ]
  },
  {
   "cell_type": "markdown",
   "id": "0dd79367",
   "metadata": {},
   "source": [
    "#This is a comment print(\"Hello World!\")"
   ]
  },
  {
   "cell_type": "code",
   "execution_count": 3,
   "id": "d139413f",
   "metadata": {},
   "outputs": [
    {
     "name": "stdout",
     "output_type": "stream",
     "text": [
      "Hello World\n"
     ]
    }
   ],
   "source": [
    "#print(\"Ayesha\")\n",
    "print(\"Hello World\")"
   ]
  },
  {
   "cell_type": "markdown",
   "id": "162cf709",
   "metadata": {},
   "source": [
    "# Multi Line Comments\n",
    "Python doesnt have a syntax for multiple lines comments \n",
    "for multiple line comments, enter a hash for every single line"
   ]
  },
  {
   "cell_type": "code",
   "execution_count": 4,
   "id": "819dbc2c",
   "metadata": {},
   "outputs": [],
   "source": [
    "# 1st line\n",
    "# 2nd line\n",
    "# 3rd line"
   ]
  },
  {
   "cell_type": "markdown",
   "id": "f367df37",
   "metadata": {},
   "source": [
    "you can add multiline string (triple quotes) in your code, place yoour commemts inside it\n",
    "since python will ignore string literals that are not assigned to a variable"
   ]
  },
  {
   "cell_type": "code",
   "execution_count": 5,
   "id": "b0c87bb1",
   "metadata": {},
   "outputs": [
    {
     "data": {
      "text/plain": [
       "'\\n1st line\\n2nd line\\n3rd line\\n'"
      ]
     },
     "execution_count": 5,
     "metadata": {},
     "output_type": "execute_result"
    }
   ],
   "source": [
    "'''\n",
    "1st line\n",
    "2nd line\n",
    "3rd line\n",
    "'''"
   ]
  },
  {
   "cell_type": "code",
   "execution_count": 6,
   "id": "03a6c08b",
   "metadata": {},
   "outputs": [
    {
     "data": {
      "text/plain": [
       "'1st line\\n2nd line\\n3rd line'"
      ]
     },
     "execution_count": 6,
     "metadata": {},
     "output_type": "execute_result"
    }
   ],
   "source": [
    "\"\"\"1st line\n",
    "2nd line\n",
    "3rd line\"\"\""
   ]
  },
  {
   "cell_type": "code",
   "execution_count": 7,
   "id": "8a5672e3",
   "metadata": {},
   "outputs": [
    {
     "name": "stdout",
     "output_type": "stream",
     "text": [
      "Hello world!\n"
     ]
    }
   ],
   "source": [
    "\"\"\"1st line\n",
    "2nd line\n",
    "3rd line\"\"\"\n",
    "print(\"Hello world!\")"
   ]
  }
 ],
 "metadata": {
  "kernelspec": {
   "display_name": "Python 3 (ipykernel)",
   "language": "python",
   "name": "python3"
  },
  "language_info": {
   "codemirror_mode": {
    "name": "ipython",
    "version": 3
   },
   "file_extension": ".py",
   "mimetype": "text/x-python",
   "name": "python",
   "nbconvert_exporter": "python",
   "pygments_lexer": "ipython3",
   "version": "3.11.5"
  }
 },
 "nbformat": 4,
 "nbformat_minor": 5
}
