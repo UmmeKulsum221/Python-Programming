{
 "cells": [
  {
   "cell_type": "markdown",
   "id": "efeb4668",
   "metadata": {},
   "source": [
    "# DATA TYPES\n",
    "There are two data types\n",
    "1. Fundamental Datatypes (Can only store a single value)\n",
    "    1. Integers - 42\n",
    "    2. Float - 42.2\n",
    "    3. Complex - a+bj\n",
    "    4. Boolean - True\n",
    "    5. String - 'Hello'\n",
    "2. Advanced Datatypes/ Data Structures/ Containers (Can store multiple values)\n",
    "    1. lists - [1,2,3]\n",
    "    2. Tuples - (1,2,3)\n",
    "    3. Sets - {1,2,3}\n",
    "    4. Dictionaries - {1:'Audi',2:'Maruti'}"
   ]
  },
  {
   "cell_type": "markdown",
   "id": "ad84f676",
   "metadata": {},
   "source": [
    "## Int-Numeric Values without any decimal"
   ]
  },
  {
   "cell_type": "code",
   "execution_count": 1,
   "id": "2f6c7965",
   "metadata": {},
   "outputs": [
    {
     "name": "stdout",
     "output_type": "stream",
     "text": [
      "1\n"
     ]
    }
   ],
   "source": [
    "a=1\n",
    "print(a)"
   ]
  },
  {
   "cell_type": "code",
   "execution_count": 2,
   "id": "08d17c99",
   "metadata": {},
   "outputs": [
    {
     "data": {
      "text/plain": [
       "int"
      ]
     },
     "execution_count": 2,
     "metadata": {},
     "output_type": "execute_result"
    }
   ],
   "source": [
    "type(a)\n",
    "#To check datatype"
   ]
  },
  {
   "cell_type": "code",
   "execution_count": 3,
   "id": "2a4b6ff8",
   "metadata": {},
   "outputs": [
    {
     "data": {
      "text/plain": [
       "140191222262064"
      ]
     },
     "execution_count": 3,
     "metadata": {},
     "output_type": "execute_result"
    }
   ],
   "source": [
    "id(a)"
   ]
  },
  {
   "cell_type": "markdown",
   "id": "c6d12d04",
   "metadata": {},
   "source": [
    "## Float-Numeric Values with decimal"
   ]
  },
  {
   "cell_type": "code",
   "execution_count": 1,
   "id": "1678cf9a",
   "metadata": {},
   "outputs": [
    {
     "name": "stdout",
     "output_type": "stream",
     "text": [
      "1.0\n"
     ]
    },
    {
     "data": {
      "text/plain": [
       "float"
      ]
     },
     "execution_count": 1,
     "metadata": {},
     "output_type": "execute_result"
    }
   ],
   "source": [
    "b=1.0\n",
    "print(b)\n",
    "type(b)"
   ]
  },
  {
   "cell_type": "code",
   "execution_count": 5,
   "id": "37d6d873",
   "metadata": {},
   "outputs": [
    {
     "data": {
      "text/plain": [
       "140191520487024"
      ]
     },
     "execution_count": 5,
     "metadata": {},
     "output_type": "execute_result"
    }
   ],
   "source": [
    "id(b)"
   ]
  },
  {
   "cell_type": "markdown",
   "id": "10065d4b",
   "metadata": {},
   "source": [
    "## Type Casting\n",
    "convert one data type to another"
   ]
  },
  {
   "cell_type": "code",
   "execution_count": 2,
   "id": "8716ecc0",
   "metadata": {},
   "outputs": [
    {
     "name": "stdout",
     "output_type": "stream",
     "text": [
      "1.9999\n"
     ]
    },
    {
     "data": {
      "text/plain": [
       "float"
      ]
     },
     "execution_count": 2,
     "metadata": {},
     "output_type": "execute_result"
    }
   ],
   "source": [
    "c=1.9999\n",
    "print(c)\n",
    "type(c)"
   ]
  },
  {
   "cell_type": "code",
   "execution_count": 3,
   "id": "6ad01074",
   "metadata": {},
   "outputs": [
    {
     "data": {
      "text/plain": [
       "float"
      ]
     },
     "execution_count": 3,
     "metadata": {},
     "output_type": "execute_result"
    }
   ],
   "source": [
    "int(c)\n",
    "type(c)"
   ]
  },
  {
   "cell_type": "code",
   "execution_count": 8,
   "id": "14395650",
   "metadata": {},
   "outputs": [
    {
     "data": {
      "text/plain": [
       "float"
      ]
     },
     "execution_count": 8,
     "metadata": {},
     "output_type": "execute_result"
    }
   ],
   "source": [
    "round(c)\n",
    "type(c)"
   ]
  },
  {
   "cell_type": "code",
   "execution_count": 60,
   "id": "00245fb7",
   "metadata": {},
   "outputs": [
    {
     "data": {
      "text/plain": [
       "5.0"
      ]
     },
     "execution_count": 60,
     "metadata": {},
     "output_type": "execute_result"
    }
   ],
   "source": [
    "d=5.7\n",
    "e=float(int(d))\n",
    "e\n",
    "#whenever theres multiple brackets, the inner brackets are converted first\n",
    "#In python, the right side is executed first and then the left side"
   ]
  },
  {
   "cell_type": "code",
   "execution_count": 63,
   "id": "cada56d1",
   "metadata": {},
   "outputs": [
    {
     "data": {
      "text/plain": [
       "5.0"
      ]
     },
     "execution_count": 63,
     "metadata": {},
     "output_type": "execute_result"
    }
   ],
   "source": [
    "d=5.7\n",
    "ds = float(int(d))\n",
    "ds"
   ]
  },
  {
   "cell_type": "code",
   "execution_count": null,
   "id": "feedbeb4",
   "metadata": {},
   "outputs": [],
   "source": []
  },
  {
   "cell_type": "code",
   "execution_count": 50,
   "id": "1f44d72a",
   "metadata": {},
   "outputs": [
    {
     "data": {
      "text/plain": [
       "10.0"
      ]
     },
     "execution_count": 50,
     "metadata": {},
     "output_type": "execute_result"
    }
   ],
   "source": [
    "float(10)"
   ]
  },
  {
   "cell_type": "code",
   "execution_count": 54,
   "id": "110f6589",
   "metadata": {},
   "outputs": [
    {
     "data": {
      "text/plain": [
       "10.0"
      ]
     },
     "execution_count": 54,
     "metadata": {},
     "output_type": "execute_result"
    }
   ],
   "source": [
    "float(\"10\")"
   ]
  },
  {
   "cell_type": "code",
   "execution_count": 53,
   "id": "2ad40eed",
   "metadata": {},
   "outputs": [
    {
     "ename": "ValueError",
     "evalue": "invalid literal for int() with base 10: 'Ten'",
     "output_type": "error",
     "traceback": [
      "\u001b[0;31m---------------------------------------------------------------------------\u001b[0m",
      "\u001b[0;31mValueError\u001b[0m                                Traceback (most recent call last)",
      "Cell \u001b[0;32mIn[53], line 1\u001b[0m\n\u001b[0;32m----> 1\u001b[0m \u001b[38;5;28mint\u001b[39m(\u001b[38;5;124m\"\u001b[39m\u001b[38;5;124mTen\u001b[39m\u001b[38;5;124m\"\u001b[39m)\n",
      "\u001b[0;31mValueError\u001b[0m: invalid literal for int() with base 10: 'Ten'"
     ]
    }
   ],
   "source": [
    "int(\"Ten\")"
   ]
  },
  {
   "cell_type": "code",
   "execution_count": 69,
   "id": "4347c4f7",
   "metadata": {},
   "outputs": [
    {
     "data": {
      "text/plain": [
       "(10+0j)"
      ]
     },
     "execution_count": 69,
     "metadata": {},
     "output_type": "execute_result"
    }
   ],
   "source": [
    "complex(\"10\")"
   ]
  },
  {
   "cell_type": "markdown",
   "id": "3120d345",
   "metadata": {},
   "source": [
    "## Booalean Values-True/False"
   ]
  },
  {
   "cell_type": "code",
   "execution_count": 11,
   "id": "6c42d387",
   "metadata": {},
   "outputs": [
    {
     "data": {
      "text/plain": [
       "bool"
      ]
     },
     "execution_count": 11,
     "metadata": {},
     "output_type": "execute_result"
    }
   ],
   "source": [
    "a1=True\n",
    "type(a1)"
   ]
  },
  {
   "cell_type": "code",
   "execution_count": 8,
   "id": "f084fb8b",
   "metadata": {},
   "outputs": [
    {
     "data": {
      "text/plain": [
       "1"
      ]
     },
     "execution_count": 8,
     "metadata": {},
     "output_type": "execute_result"
    }
   ],
   "source": [
    "True + False"
   ]
  },
  {
   "cell_type": "code",
   "execution_count": 11,
   "id": "99e03de6",
   "metadata": {},
   "outputs": [
    {
     "ename": "NameError",
     "evalue": "name 'true' is not defined",
     "output_type": "error",
     "traceback": [
      "\u001b[0;31m---------------------------------------------------------------------------\u001b[0m",
      "\u001b[0;31mNameError\u001b[0m                                 Traceback (most recent call last)",
      "\u001b[0;32m/var/folders/fh/8wlf5_bd2hg7ys59grg30w180000gn/T/ipykernel_4913/2650704840.py\u001b[0m in \u001b[0;36m<module>\u001b[0;34m\u001b[0m\n\u001b[0;32m----> 1\u001b[0;31m \u001b[0ma2\u001b[0m\u001b[0;34m=\u001b[0m\u001b[0mtrue\u001b[0m\u001b[0;34m\u001b[0m\u001b[0;34m\u001b[0m\u001b[0m\n\u001b[0m\u001b[1;32m      2\u001b[0m \u001b[0mtype\u001b[0m\u001b[0;34m(\u001b[0m\u001b[0ma2\u001b[0m\u001b[0;34m)\u001b[0m\u001b[0;34m\u001b[0m\u001b[0;34m\u001b[0m\u001b[0m\n\u001b[1;32m      3\u001b[0m \u001b[0;31m#only True with caps T is considered as boolean values\u001b[0m\u001b[0;34m\u001b[0m\u001b[0;34m\u001b[0m\u001b[0m\n",
      "\u001b[0;31mNameError\u001b[0m: name 'true' is not defined"
     ]
    }
   ],
   "source": [
    "a2=true\n",
    "type(a2)\n",
    "#only True with caps T is considered as boolean values"
   ]
  },
  {
   "cell_type": "code",
   "execution_count": 12,
   "id": "24918820",
   "metadata": {},
   "outputs": [
    {
     "data": {
      "text/plain": [
       "1"
      ]
     },
     "execution_count": 12,
     "metadata": {},
     "output_type": "execute_result"
    }
   ],
   "source": [
    "a3=True\n",
    "int(a3)\n",
    "#The value of True is always 1"
   ]
  },
  {
   "cell_type": "code",
   "execution_count": 13,
   "id": "2ee5e82a",
   "metadata": {},
   "outputs": [
    {
     "data": {
      "text/plain": [
       "0"
      ]
     },
     "execution_count": 13,
     "metadata": {},
     "output_type": "execute_result"
    }
   ],
   "source": [
    "a4=False\n",
    "int(a4)\n",
    "#The value of False is always 0 "
   ]
  },
  {
   "cell_type": "code",
   "execution_count": 14,
   "id": "d8661dd0",
   "metadata": {},
   "outputs": [
    {
     "data": {
      "text/plain": [
       "True"
      ]
     },
     "execution_count": 14,
     "metadata": {},
     "output_type": "execute_result"
    }
   ],
   "source": [
    "bool(1)"
   ]
  },
  {
   "cell_type": "code",
   "execution_count": 15,
   "id": "82035919",
   "metadata": {},
   "outputs": [
    {
     "data": {
      "text/plain": [
       "False"
      ]
     },
     "execution_count": 15,
     "metadata": {},
     "output_type": "execute_result"
    }
   ],
   "source": [
    "bool(0)"
   ]
  },
  {
   "cell_type": "code",
   "execution_count": 65,
   "id": "6cb4f8ff",
   "metadata": {},
   "outputs": [
    {
     "data": {
      "text/plain": [
       "True"
      ]
     },
     "execution_count": 65,
     "metadata": {},
     "output_type": "execute_result"
    }
   ],
   "source": [
    "bool(\"hello\")"
   ]
  },
  {
   "cell_type": "markdown",
   "id": "0228c12e",
   "metadata": {},
   "source": [
    "## Complex Datatypes/Imaginary Datatypes\n",
    "Complex literals are created by using the notion x=a+bj where a is real component and b is imaginary component"
   ]
  },
  {
   "cell_type": "code",
   "execution_count": 14,
   "id": "60532466",
   "metadata": {},
   "outputs": [
    {
     "data": {
      "text/plain": [
       "90.0"
      ]
     },
     "execution_count": 14,
     "metadata": {},
     "output_type": "execute_result"
    }
   ],
   "source": [
    "x = 90+9j\n",
    "x.real"
   ]
  },
  {
   "cell_type": "code",
   "execution_count": 17,
   "id": "259f82ad",
   "metadata": {},
   "outputs": [
    {
     "data": {
      "text/plain": [
       "complex"
      ]
     },
     "execution_count": 17,
     "metadata": {},
     "output_type": "execute_result"
    }
   ],
   "source": [
    "x=20+9j\n",
    "type(x)\n",
    "#a is real b is the imaginary value and j is square root of -1,hence it is a compplex datatype"
   ]
  },
  {
   "cell_type": "code",
   "execution_count": 23,
   "id": "a60737cf",
   "metadata": {},
   "outputs": [],
   "source": [
    "#only j is allowed!!!!"
   ]
  },
  {
   "cell_type": "code",
   "execution_count": 18,
   "id": "22654133",
   "metadata": {},
   "outputs": [
    {
     "data": {
      "text/plain": [
       "20.0"
      ]
     },
     "execution_count": 18,
     "metadata": {},
     "output_type": "execute_result"
    }
   ],
   "source": [
    "x.real\n",
    "#to get real values\n",
    "#it always gives output of a float value"
   ]
  },
  {
   "cell_type": "code",
   "execution_count": 19,
   "id": "9024c60a",
   "metadata": {},
   "outputs": [
    {
     "data": {
      "text/plain": [
       "20"
      ]
     },
     "execution_count": 19,
     "metadata": {},
     "output_type": "execute_result"
    }
   ],
   "source": [
    "int(x.real)"
   ]
  },
  {
   "cell_type": "code",
   "execution_count": 20,
   "id": "4e5781b7",
   "metadata": {},
   "outputs": [
    {
     "data": {
      "text/plain": [
       "9.0"
      ]
     },
     "execution_count": 20,
     "metadata": {},
     "output_type": "execute_result"
    }
   ],
   "source": [
    "x.imag"
   ]
  },
  {
   "cell_type": "code",
   "execution_count": 21,
   "id": "3037e442",
   "metadata": {},
   "outputs": [
    {
     "data": {
      "text/plain": [
       "9"
      ]
     },
     "execution_count": 21,
     "metadata": {},
     "output_type": "execute_result"
    }
   ],
   "source": [
    "int(x.imag)"
   ]
  },
  {
   "cell_type": "code",
   "execution_count": 22,
   "id": "2e5c4e84",
   "metadata": {},
   "outputs": [
    {
     "data": {
      "text/plain": [
       "(20+9j)"
      ]
     },
     "execution_count": 22,
     "metadata": {},
     "output_type": "execute_result"
    }
   ],
   "source": [
    "x"
   ]
  },
  {
   "cell_type": "code",
   "execution_count": 21,
   "id": "8651d30d",
   "metadata": {},
   "outputs": [
    {
     "ename": "TypeError",
     "evalue": "can't convert complex to int",
     "output_type": "error",
     "traceback": [
      "\u001b[0;31m---------------------------------------------------------------------------\u001b[0m",
      "\u001b[0;31mTypeError\u001b[0m                                 Traceback (most recent call last)",
      "\u001b[0;32m/var/folders/fh/8wlf5_bd2hg7ys59grg30w180000gn/T/ipykernel_4913/3732088012.py\u001b[0m in \u001b[0;36m<module>\u001b[0;34m\u001b[0m\n\u001b[0;32m----> 1\u001b[0;31m \u001b[0mint\u001b[0m\u001b[0;34m(\u001b[0m\u001b[0;36m20\u001b[0m\u001b[0;34m+\u001b[0m\u001b[0;36m9j\u001b[0m\u001b[0;34m)\u001b[0m\u001b[0;34m\u001b[0m\u001b[0;34m\u001b[0m\u001b[0m\n\u001b[0m",
      "\u001b[0;31mTypeError\u001b[0m: can't convert complex to int"
     ]
    }
   ],
   "source": [
    "int(20+9j)"
   ]
  },
  {
   "cell_type": "code",
   "execution_count": 22,
   "id": "a51f1eb8",
   "metadata": {},
   "outputs": [
    {
     "data": {
      "text/plain": [
       "(10+0j)"
      ]
     },
     "execution_count": 22,
     "metadata": {},
     "output_type": "execute_result"
    }
   ],
   "source": [
    "complex(10)"
   ]
  },
  {
   "cell_type": "code",
   "execution_count": 23,
   "id": "e2162cee",
   "metadata": {},
   "outputs": [
    {
     "data": {
      "text/plain": [
       "10j"
      ]
     },
     "execution_count": 23,
     "metadata": {},
     "output_type": "execute_result"
    }
   ],
   "source": [
    "complex(10j)"
   ]
  },
  {
   "cell_type": "code",
   "execution_count": 25,
   "id": "0c38f2ba",
   "metadata": {},
   "outputs": [
    {
     "data": {
      "text/plain": [
       "complex"
      ]
     },
     "execution_count": 25,
     "metadata": {},
     "output_type": "execute_result"
    }
   ],
   "source": [
    "y = 34+3j\n",
    "type(y)"
   ]
  },
  {
   "cell_type": "code",
   "execution_count": 27,
   "id": "02e5326a",
   "metadata": {},
   "outputs": [
    {
     "data": {
      "text/plain": [
       "(54+12j)"
      ]
     },
     "execution_count": 27,
     "metadata": {},
     "output_type": "execute_result"
    }
   ],
   "source": [
    "x+y  #can perform all arithematic calculation"
   ]
  },
  {
   "cell_type": "code",
   "execution_count": 59,
   "id": "ebd44fb8",
   "metadata": {},
   "outputs": [
    {
     "data": {
      "text/plain": [
       "(2.3+90j)"
      ]
     },
     "execution_count": 59,
     "metadata": {},
     "output_type": "execute_result"
    }
   ],
   "source": [
    "complex(2.3,90)"
   ]
  },
  {
   "cell_type": "code",
   "execution_count": 70,
   "id": "a1081adb",
   "metadata": {},
   "outputs": [
    {
     "data": {
      "text/plain": [
       "(10+0j)"
      ]
     },
     "execution_count": 70,
     "metadata": {},
     "output_type": "execute_result"
    }
   ],
   "source": [
    "complex(\"10\")"
   ]
  },
  {
   "cell_type": "markdown",
   "id": "8c0b3aeb",
   "metadata": {},
   "source": [
    "## String\n",
    "-A string in python consists of a series of sequence of characters-letter, numbers and special characters\n",
    "-We can use single/double quotes to represent strings"
   ]
  },
  {
   "cell_type": "code",
   "execution_count": 24,
   "id": "2a504972",
   "metadata": {},
   "outputs": [
    {
     "name": "stdout",
     "output_type": "stream",
     "text": [
      "Ayesha\n"
     ]
    }
   ],
   "source": [
    "a=\"Ayesha\"\n",
    "print(a)"
   ]
  },
  {
   "cell_type": "code",
   "execution_count": 68,
   "id": "42fc0895",
   "metadata": {},
   "outputs": [
    {
     "data": {
      "text/plain": [
       "'10'"
      ]
     },
     "execution_count": 68,
     "metadata": {},
     "output_type": "execute_result"
    }
   ],
   "source": [
    "ann = str(10)\n",
    "ann"
   ]
  },
  {
   "cell_type": "code",
   "execution_count": 25,
   "id": "5fa1d2a0",
   "metadata": {},
   "outputs": [
    {
     "data": {
      "text/plain": [
       "str"
      ]
     },
     "execution_count": 25,
     "metadata": {},
     "output_type": "execute_result"
    }
   ],
   "source": [
    "type(a)"
   ]
  },
  {
   "cell_type": "code",
   "execution_count": 28,
   "id": "24849238",
   "metadata": {},
   "outputs": [
    {
     "name": "stdout",
     "output_type": "stream",
     "text": [
      "Hey\n",
      "Heyyyy\n"
     ]
    }
   ],
   "source": [
    "my_string_1=\"Hey\"\n",
    "print(my_string_1)\n",
    "my_string_2='Heyyyy'\n",
    "print(my_string_2)"
   ]
  },
  {
   "cell_type": "code",
   "execution_count": 27,
   "id": "e1d89b29",
   "metadata": {},
   "outputs": [
    {
     "name": "stdout",
     "output_type": "stream",
     "text": [
      "My Name is\n",
      "Ayesha Nausheen\n"
     ]
    }
   ],
   "source": [
    "x='''My Name is\n",
    "Ayesha Nausheen'''\n",
    "print(x)\n",
    "# triple inverted commas are used for multiline strings"
   ]
  },
  {
   "cell_type": "code",
   "execution_count": 31,
   "id": "ee3f73f2",
   "metadata": {},
   "outputs": [
    {
     "name": "stdout",
     "output_type": "stream",
     "text": [
      "wht\n",
      "in \n",
      "the world\n",
      "\n"
     ]
    }
   ],
   "source": [
    "sss = '''wht\n",
    "in \n",
    "the world\n",
    "'''\n",
    "print(sss)"
   ]
  },
  {
   "cell_type": "code",
   "execution_count": 28,
   "id": "7c1a17ec",
   "metadata": {},
   "outputs": [
    {
     "data": {
      "text/plain": [
       "15"
      ]
     },
     "execution_count": 28,
     "metadata": {},
     "output_type": "execute_result"
    }
   ],
   "source": [
    "x=\"Ayesha Nausheen\"\n",
    "len(x)"
   ]
  },
  {
   "cell_type": "code",
   "execution_count": 29,
   "id": "72ba4468",
   "metadata": {},
   "outputs": [
    {
     "data": {
      "text/plain": [
       "str"
      ]
     },
     "execution_count": 29,
     "metadata": {},
     "output_type": "execute_result"
    }
   ],
   "source": [
    "var1=\"123456\"\n",
    "type(var1)\n",
    "#quotations are present"
   ]
  },
  {
   "cell_type": "code",
   "execution_count": 30,
   "id": "37a4efdd",
   "metadata": {},
   "outputs": [
    {
     "data": {
      "text/plain": [
       "int"
      ]
     },
     "execution_count": 30,
     "metadata": {},
     "output_type": "execute_result"
    }
   ],
   "source": [
    "var1=123456\n",
    "type(var1)\n",
    "#quotations are absent"
   ]
  },
  {
   "cell_type": "code",
   "execution_count": 31,
   "id": "2d5dcd9c",
   "metadata": {},
   "outputs": [
    {
     "ename": "SyntaxError",
     "evalue": "invalid syntax (996835011.py, line 1)",
     "output_type": "error",
     "traceback": [
      "\u001b[0;36m  File \u001b[0;32m\"/var/folders/fh/8wlf5_bd2hg7ys59grg30w180000gn/T/ipykernel_4913/996835011.py\"\u001b[0;36m, line \u001b[0;32m1\u001b[0m\n\u001b[0;31m    var1=123a\u001b[0m\n\u001b[0m            ^\u001b[0m\n\u001b[0;31mSyntaxError\u001b[0m\u001b[0;31m:\u001b[0m invalid syntax\n"
     ]
    }
   ],
   "source": [
    "var1=123a\n",
    "type(var1)"
   ]
  },
  {
   "cell_type": "code",
   "execution_count": 32,
   "id": "e1c081c7",
   "metadata": {},
   "outputs": [
    {
     "data": {
      "text/plain": [
       "str"
      ]
     },
     "execution_count": 32,
     "metadata": {},
     "output_type": "execute_result"
    }
   ],
   "source": [
    "var1=\"123a\"\n",
    "type(var1)"
   ]
  },
  {
   "cell_type": "code",
   "execution_count": 33,
   "id": "9166dfc1",
   "metadata": {},
   "outputs": [
    {
     "data": {
      "text/plain": [
       "123456"
      ]
     },
     "execution_count": 33,
     "metadata": {},
     "output_type": "execute_result"
    }
   ],
   "source": [
    "var1=\"123456\"\n",
    "int(var1)"
   ]
  },
  {
   "cell_type": "markdown",
   "id": "ce506a25",
   "metadata": {},
   "source": [
    "Can a String be converted to Int?\n",
    "If the string has only numeric values then it can be converted"
   ]
  },
  {
   "cell_type": "markdown",
   "id": "ee95a057",
   "metadata": {},
   "source": [
    "### Length of String"
   ]
  },
  {
   "cell_type": "code",
   "execution_count": 35,
   "id": "14c888ab",
   "metadata": {},
   "outputs": [
    {
     "data": {
      "text/plain": [
       "15"
      ]
     },
     "execution_count": 35,
     "metadata": {},
     "output_type": "execute_result"
    }
   ],
   "source": [
    "My_String=\"Ayesha Nausheen\"\n",
    "len(My_String)"
   ]
  },
  {
   "cell_type": "markdown",
   "id": "0258f9fc",
   "metadata": {},
   "source": [
    "### Indexing"
   ]
  },
  {
   "cell_type": "markdown",
   "id": "e4561377",
   "metadata": {},
   "source": [
    "-Strings can be indexed-often synonmously called subscripted as well\n",
    "-python supports both +ve and -ve indexing\n",
    "    - +ve indexing means left to right (forward indexing)-> forward indexing\n",
    "    - -ve indexing means right to left (backward indexing)-> backward indexing\n",
    "-The first character of string has the index 0"
   ]
  },
  {
   "cell_type": "code",
   "execution_count": 45,
   "id": "a468746a",
   "metadata": {},
   "outputs": [
    {
     "name": "stdout",
     "output_type": "stream",
     "text": [
      "A\n"
     ]
    }
   ],
   "source": [
    "My_String=\"Ayesha Nausheen\"\n",
    "print(My_String[0])"
   ]
  },
  {
   "cell_type": "code",
   "execution_count": 37,
   "id": "bc552a3d",
   "metadata": {},
   "outputs": [
    {
     "name": "stdout",
     "output_type": "stream",
     "text": [
      "n\n"
     ]
    }
   ],
   "source": [
    "print(My_String[-1])"
   ]
  },
  {
   "cell_type": "code",
   "execution_count": 38,
   "id": "1a6f1f2e",
   "metadata": {},
   "outputs": [
    {
     "name": "stdout",
     "output_type": "stream",
     "text": [
      "e\n"
     ]
    }
   ],
   "source": [
    "print(My_String[-3])"
   ]
  },
  {
   "cell_type": "code",
   "execution_count": 39,
   "id": "dd333c5d",
   "metadata": {},
   "outputs": [
    {
     "ename": "IndexError",
     "evalue": "string index out of range",
     "output_type": "error",
     "traceback": [
      "\u001b[0;31m---------------------------------------------------------------------------\u001b[0m",
      "\u001b[0;31mIndexError\u001b[0m                                Traceback (most recent call last)",
      "\u001b[0;32m/var/folders/fh/8wlf5_bd2hg7ys59grg30w180000gn/T/ipykernel_4913/2390494301.py\u001b[0m in \u001b[0;36m<module>\u001b[0;34m\u001b[0m\n\u001b[0;32m----> 1\u001b[0;31m \u001b[0mprint\u001b[0m\u001b[0;34m(\u001b[0m\u001b[0mMy_String\u001b[0m\u001b[0;34m[\u001b[0m\u001b[0;36m18\u001b[0m\u001b[0;34m]\u001b[0m\u001b[0;34m)\u001b[0m\u001b[0;34m\u001b[0m\u001b[0;34m\u001b[0m\u001b[0m\n\u001b[0m",
      "\u001b[0;31mIndexError\u001b[0m: string index out of range"
     ]
    }
   ],
   "source": [
    "print(My_String[18])"
   ]
  },
  {
   "cell_type": "code",
   "execution_count": 40,
   "id": "9f0f123f",
   "metadata": {},
   "outputs": [
    {
     "ename": "TypeError",
     "evalue": "string indices must be integers",
     "output_type": "error",
     "traceback": [
      "\u001b[0;31m---------------------------------------------------------------------------\u001b[0m",
      "\u001b[0;31mTypeError\u001b[0m                                 Traceback (most recent call last)",
      "\u001b[0;32m/var/folders/fh/8wlf5_bd2hg7ys59grg30w180000gn/T/ipykernel_4913/3160544237.py\u001b[0m in \u001b[0;36m<module>\u001b[0;34m\u001b[0m\n\u001b[0;32m----> 1\u001b[0;31m \u001b[0mprint\u001b[0m\u001b[0;34m(\u001b[0m\u001b[0mMy_String\u001b[0m\u001b[0;34m[\u001b[0m\u001b[0;36m3.5\u001b[0m\u001b[0;34m]\u001b[0m\u001b[0;34m)\u001b[0m\u001b[0;34m\u001b[0m\u001b[0;34m\u001b[0m\u001b[0m\n\u001b[0m",
      "\u001b[0;31mTypeError\u001b[0m: string indices must be integers"
     ]
    }
   ],
   "source": [
    "print(My_String[3.5])"
   ]
  },
  {
   "cell_type": "code",
   "execution_count": 34,
   "id": "18641295",
   "metadata": {},
   "outputs": [
    {
     "name": "stdout",
     "output_type": "stream",
     "text": [
      "umme\n"
     ]
    }
   ],
   "source": [
    "name = \"umme kulsum\"\n",
    "print(name[0:4])"
   ]
  },
  {
   "cell_type": "markdown",
   "id": "40758dc8",
   "metadata": {},
   "source": [
    "# Slicing the strings\n",
    "## : --> slicing\n",
    "##[Start index(inclusive):end index(exlusive):step]"
   ]
  },
  {
   "cell_type": "code",
   "execution_count": 38,
   "id": "5285ae77",
   "metadata": {},
   "outputs": [
    {
     "name": "stdout",
     "output_type": "stream",
     "text": [
      "Ayesh\n"
     ]
    }
   ],
   "source": [
    "print(My_String[0:5])"
   ]
  },
  {
   "cell_type": "code",
   "execution_count": 39,
   "id": "0458e9e2",
   "metadata": {},
   "outputs": [
    {
     "name": "stdout",
     "output_type": "stream",
     "text": [
      "Ayesha\n"
     ]
    }
   ],
   "source": [
    "print(My_String[0:6])"
   ]
  },
  {
   "cell_type": "code",
   "execution_count": 40,
   "id": "64db6905",
   "metadata": {},
   "outputs": [
    {
     "name": "stdout",
     "output_type": "stream",
     "text": [
      "Nausheen\n"
     ]
    }
   ],
   "source": [
    "print(My_String[7:32])"
   ]
  },
  {
   "cell_type": "code",
   "execution_count": 41,
   "id": "f492d4ff",
   "metadata": {},
   "outputs": [
    {
     "name": "stdout",
     "output_type": "stream",
     "text": [
      "esha\n"
     ]
    }
   ],
   "source": [
    "print(My_String[2:6])"
   ]
  },
  {
   "cell_type": "code",
   "execution_count": 42,
   "id": "10f8d2e3",
   "metadata": {},
   "outputs": [
    {
     "name": "stdout",
     "output_type": "stream",
     "text": [
      "Aeh asen\n"
     ]
    }
   ],
   "source": [
    "print(My_String[0:15:2])"
   ]
  },
  {
   "cell_type": "code",
   "execution_count": 43,
   "id": "e27a142f",
   "metadata": {},
   "outputs": [
    {
     "name": "stdout",
     "output_type": "stream",
     "text": [
      "As ue\n"
     ]
    }
   ],
   "source": [
    "print(My_String[0:15:3])"
   ]
  },
  {
   "cell_type": "code",
   "execution_count": 44,
   "id": "ad1bf987",
   "metadata": {},
   "outputs": [
    {
     "name": "stdout",
     "output_type": "stream",
     "text": [
      "neehsu\n"
     ]
    }
   ],
   "source": [
    "print(My_String[15:8:-1])"
   ]
  },
  {
   "cell_type": "code",
   "execution_count": 49,
   "id": "e73da9b7",
   "metadata": {},
   "outputs": [
    {
     "data": {
      "text/plain": [
       "' emmu'"
      ]
     },
     "execution_count": 49,
     "metadata": {},
     "output_type": "execute_result"
    }
   ],
   "source": [
    "name = \"umme kulsum\"\n",
    "name[4::-1]"
   ]
  },
  {
   "cell_type": "code",
   "execution_count": 46,
   "id": "a62af1de",
   "metadata": {},
   "outputs": [
    {
     "name": "stdout",
     "output_type": "stream",
     "text": [
      "neehsu\n"
     ]
    }
   ],
   "source": [
    "print(My_String[15:8:-1])"
   ]
  },
  {
   "cell_type": "code",
   "execution_count": 49,
   "id": "83963475",
   "metadata": {},
   "outputs": [
    {
     "name": "stdout",
     "output_type": "stream",
     "text": [
      "aae\n"
     ]
    }
   ],
   "source": [
    "print(My_String[8:1:-3])"
   ]
  },
  {
   "cell_type": "code",
   "execution_count": 50,
   "id": "f4b9e305",
   "metadata": {},
   "outputs": [
    {
     "name": "stdout",
     "output_type": "stream",
     "text": [
      "Ayesha\n"
     ]
    }
   ],
   "source": [
    "print(My_String[:6])"
   ]
  },
  {
   "cell_type": "code",
   "execution_count": 51,
   "id": "0784ea78",
   "metadata": {},
   "outputs": [
    {
     "name": "stdout",
     "output_type": "stream",
     "text": [
      "Nausheen\n"
     ]
    }
   ],
   "source": [
    "print(My_String[7:])"
   ]
  },
  {
   "cell_type": "code",
   "execution_count": 52,
   "id": "4ebaac7c",
   "metadata": {},
   "outputs": [
    {
     "name": "stdout",
     "output_type": "stream",
     "text": [
      "Aeh asen\n"
     ]
    }
   ],
   "source": [
    "print(My_String[::2])"
   ]
  },
  {
   "cell_type": "code",
   "execution_count": 53,
   "id": "31ec0725",
   "metadata": {},
   "outputs": [
    {
     "name": "stdout",
     "output_type": "stream",
     "text": [
      "Ayesha Nausheen\n"
     ]
    }
   ],
   "source": [
    "print(My_String[:])"
   ]
  },
  {
   "cell_type": "code",
   "execution_count": 54,
   "id": "7543d170",
   "metadata": {},
   "outputs": [
    {
     "name": "stdout",
     "output_type": "stream",
     "text": [
      "neehsuaN ahseyA\n"
     ]
    }
   ],
   "source": [
    "print(My_String[::-1])"
   ]
  },
  {
   "cell_type": "markdown",
   "id": "1fda2b03",
   "metadata": {},
   "source": [
    "### String Concatenation"
   ]
  },
  {
   "cell_type": "code",
   "execution_count": 55,
   "id": "b81e58ea",
   "metadata": {},
   "outputs": [
    {
     "data": {
      "text/plain": [
       "'HelloWorld'"
      ]
     },
     "execution_count": 55,
     "metadata": {},
     "output_type": "execute_result"
    }
   ],
   "source": [
    "\"Hello\"+\"World\""
   ]
  },
  {
   "cell_type": "code",
   "execution_count": 56,
   "id": "33921a5f",
   "metadata": {},
   "outputs": [
    {
     "data": {
      "text/plain": [
       "'Hello World'"
      ]
     },
     "execution_count": 56,
     "metadata": {},
     "output_type": "execute_result"
    }
   ],
   "source": [
    "\"Hello\"+\" \"\"World\""
   ]
  },
  {
   "cell_type": "code",
   "execution_count": 57,
   "id": "f54cb28c",
   "metadata": {},
   "outputs": [
    {
     "data": {
      "text/plain": [
       "'AshAshAsh'"
      ]
     },
     "execution_count": 57,
     "metadata": {},
     "output_type": "execute_result"
    }
   ],
   "source": [
    "\"Ash\"*3"
   ]
  },
  {
   "cell_type": "code",
   "execution_count": 58,
   "id": "2dd02779",
   "metadata": {},
   "outputs": [
    {
     "ename": "TypeError",
     "evalue": "can only concatenate str (not \"int\") to str",
     "output_type": "error",
     "traceback": [
      "\u001b[0;31m---------------------------------------------------------------------------\u001b[0m",
      "\u001b[0;31mTypeError\u001b[0m                                 Traceback (most recent call last)",
      "\u001b[0;32m/var/folders/fh/8wlf5_bd2hg7ys59grg30w180000gn/T/ipykernel_4913/596579400.py\u001b[0m in \u001b[0;36m<module>\u001b[0;34m\u001b[0m\n\u001b[0;32m----> 1\u001b[0;31m \u001b[0;34m\"Ayesha\"\u001b[0m\u001b[0;34m+\u001b[0m\u001b[0;36m23\u001b[0m\u001b[0;34m\u001b[0m\u001b[0;34m\u001b[0m\u001b[0m\n\u001b[0m",
      "\u001b[0;31mTypeError\u001b[0m: can only concatenate str (not \"int\") to str"
     ]
    }
   ],
   "source": [
    "\"Ayesha\"+23"
   ]
  },
  {
   "cell_type": "code",
   "execution_count": 59,
   "id": "3f3677ce",
   "metadata": {},
   "outputs": [
    {
     "data": {
      "text/plain": [
       "'Ayesha23'"
      ]
     },
     "execution_count": 59,
     "metadata": {},
     "output_type": "execute_result"
    }
   ],
   "source": [
    "\"Ayesha\"+\"23\""
   ]
  },
  {
   "cell_type": "code",
   "execution_count": 60,
   "id": "b22b68f7",
   "metadata": {},
   "outputs": [
    {
     "data": {
      "text/plain": [
       "'Ayesha23'"
      ]
     },
     "execution_count": 60,
     "metadata": {},
     "output_type": "execute_result"
    }
   ],
   "source": [
    "\"Ayesha\"+str(23)"
   ]
  },
  {
   "cell_type": "code",
   "execution_count": 61,
   "id": "54f861dd",
   "metadata": {},
   "outputs": [
    {
     "ename": "TypeError",
     "evalue": "can only concatenate str (not \"int\") to str",
     "output_type": "error",
     "traceback": [
      "\u001b[0;31m---------------------------------------------------------------------------\u001b[0m",
      "\u001b[0;31mTypeError\u001b[0m                                 Traceback (most recent call last)",
      "\u001b[0;32m/var/folders/fh/8wlf5_bd2hg7ys59grg30w180000gn/T/ipykernel_4913/54178830.py\u001b[0m in \u001b[0;36m<module>\u001b[0;34m\u001b[0m\n\u001b[1;32m      1\u001b[0m \u001b[0muser\u001b[0m\u001b[0;34m=\u001b[0m\u001b[0;34m\"Ayesha\"\u001b[0m\u001b[0;34m\u001b[0m\u001b[0;34m\u001b[0m\u001b[0m\n\u001b[1;32m      2\u001b[0m \u001b[0mlines\u001b[0m\u001b[0;34m=\u001b[0m\u001b[0;36m100\u001b[0m\u001b[0;34m\u001b[0m\u001b[0;34m\u001b[0m\u001b[0m\n\u001b[0;32m----> 3\u001b[0;31m \u001b[0mprint\u001b[0m\u001b[0;34m(\u001b[0m\u001b[0;34m\"Congralations,\"\u001b[0m\u001b[0;34m+\u001b[0m \u001b[0muser\u001b[0m \u001b[0;34m+\u001b[0m\u001b[0;34m\" ! You just wrote \"\u001b[0m \u001b[0;34m+\u001b[0m \u001b[0mlines\u001b[0m \u001b[0;34m+\u001b[0m\u001b[0;34m\"of code\"\u001b[0m\u001b[0;34m)\u001b[0m\u001b[0;34m\u001b[0m\u001b[0;34m\u001b[0m\u001b[0m\n\u001b[0m\u001b[1;32m      4\u001b[0m \u001b[0;31m#Convert int i.e 100 to string\u001b[0m\u001b[0;34m\u001b[0m\u001b[0;34m\u001b[0m\u001b[0m\n",
      "\u001b[0;31mTypeError\u001b[0m: can only concatenate str (not \"int\") to str"
     ]
    }
   ],
   "source": [
    "user=\"Ayesha\"\n",
    "lines=100\n",
    "print(\"Congralations,\"+ user +\" ! You just wrote \" + lines +\"of code\")\n",
    "#Convert int i.e 100 to string"
   ]
  },
  {
   "cell_type": "code",
   "execution_count": 62,
   "id": "a110f33b",
   "metadata": {},
   "outputs": [
    {
     "ename": "SyntaxError",
     "evalue": "invalid syntax (2307521322.py, line 1)",
     "output_type": "error",
     "traceback": [
      "\u001b[0;36m  File \u001b[0;32m\"/var/folders/fh/8wlf5_bd2hg7ys59grg30w180000gn/T/ipykernel_4913/2307521322.py\"\u001b[0;36m, line \u001b[0;32m1\u001b[0m\n\u001b[0;31m    print(\"Congralations,\"+ ,user, +\" ! You just wrote \" + ,lines, +\"of code\")\u001b[0m\n\u001b[0m                            ^\u001b[0m\n\u001b[0;31mSyntaxError\u001b[0m\u001b[0;31m:\u001b[0m invalid syntax\n"
     ]
    }
   ],
   "source": [
    "print(\"Congralations,\"+ ,user, +\" ! You just wrote \" + ,lines, +\"of code\")"
   ]
  },
  {
   "cell_type": "code",
   "execution_count": 63,
   "id": "c4539768",
   "metadata": {},
   "outputs": [
    {
     "name": "stdout",
     "output_type": "stream",
     "text": [
      "Congralations,Ayesha! You just wrote 100 of code\n"
     ]
    }
   ],
   "source": [
    "print(\"Congralations,\"+ user +\"! You just wrote \" + str(lines) +\" of code\")"
   ]
  },
  {
   "cell_type": "code",
   "execution_count": 64,
   "id": "e3ed0320",
   "metadata": {},
   "outputs": [
    {
     "data": {
      "text/plain": [
       "140191222262672"
      ]
     },
     "execution_count": 64,
     "metadata": {},
     "output_type": "execute_result"
    }
   ],
   "source": [
    "a=20\n",
    "id(a)"
   ]
  },
  {
   "cell_type": "code",
   "execution_count": 65,
   "id": "933634e4",
   "metadata": {},
   "outputs": [
    {
     "data": {
      "text/plain": [
       "140191222262992"
      ]
     },
     "execution_count": 65,
     "metadata": {},
     "output_type": "execute_result"
    }
   ],
   "source": [
    "a=30\n",
    "id(a)"
   ]
  },
  {
   "cell_type": "code",
   "execution_count": 66,
   "id": "fa0c1462",
   "metadata": {},
   "outputs": [
    {
     "name": "stdout",
     "output_type": "stream",
     "text": [
      "30\n"
     ]
    }
   ],
   "source": [
    "print(a)"
   ]
  },
  {
   "cell_type": "code",
   "execution_count": 67,
   "id": "4aebe0a9",
   "metadata": {},
   "outputs": [
    {
     "name": "stdout",
     "output_type": "stream",
     "text": [
      "[1, 2, 3]\n"
     ]
    },
    {
     "data": {
      "text/plain": [
       "140191224767104"
      ]
     },
     "execution_count": 67,
     "metadata": {},
     "output_type": "execute_result"
    }
   ],
   "source": [
    "a=[1,2,3]\n",
    "print(a)\n",
    "id(a)"
   ]
  },
  {
   "cell_type": "code",
   "execution_count": 68,
   "id": "bd16d260",
   "metadata": {},
   "outputs": [
    {
     "name": "stdout",
     "output_type": "stream",
     "text": [
      "[10, 2, 3]\n"
     ]
    },
    {
     "data": {
      "text/plain": [
       "140191224767104"
      ]
     },
     "execution_count": 68,
     "metadata": {},
     "output_type": "execute_result"
    }
   ],
   "source": [
    "a[0]=10\n",
    "print(a)\n",
    "id(a)"
   ]
  },
  {
   "cell_type": "code",
   "execution_count": 69,
   "id": "92aa4456",
   "metadata": {},
   "outputs": [
    {
     "name": "stdout",
     "output_type": "stream",
     "text": [
      "a\n"
     ]
    }
   ],
   "source": [
    "My_String=\"Zeba\"\n",
    "print(My_String[3])"
   ]
  },
  {
   "cell_type": "code",
   "execution_count": 70,
   "id": "a8ff9f52",
   "metadata": {},
   "outputs": [
    {
     "ename": "SyntaxError",
     "evalue": "expression cannot contain assignment, perhaps you meant \"==\"? (498313618.py, line 2)",
     "output_type": "error",
     "traceback": [
      "\u001b[0;36m  File \u001b[0;32m\"/var/folders/fh/8wlf5_bd2hg7ys59grg30w180000gn/T/ipykernel_4913/498313618.py\"\u001b[0;36m, line \u001b[0;32m2\u001b[0m\n\u001b[0;31m    print(My_String[3]=\"u\")\u001b[0m\n\u001b[0m          ^\u001b[0m\n\u001b[0;31mSyntaxError\u001b[0m\u001b[0;31m:\u001b[0m expression cannot contain assignment, perhaps you meant \"==\"?\n"
     ]
    }
   ],
   "source": [
    "My_String=\"Zeba\"\n",
    "print(My_String[3]=\"u\")\n",
    "#Strings are immutable\n",
    "#Cannot replace the value in same objects\n",
    "#canot be modofied within the same object"
   ]
  },
  {
   "cell_type": "markdown",
   "id": "0b79f588",
   "metadata": {},
   "source": [
    "## String Methods\n",
    "Method and Function difference???"
   ]
  },
  {
   "cell_type": "code",
   "execution_count": 71,
   "id": "fa3b7f0c",
   "metadata": {},
   "outputs": [
    {
     "data": {
      "text/plain": [
       "8"
      ]
     },
     "execution_count": 71,
     "metadata": {},
     "output_type": "execute_result"
    }
   ],
   "source": [
    "a=\" Kulsum \"\n",
    "len(a)"
   ]
  },
  {
   "cell_type": "code",
   "execution_count": 72,
   "id": "89d617f0",
   "metadata": {},
   "outputs": [
    {
     "data": {
      "text/plain": [
       "'Kulsum'"
      ]
     },
     "execution_count": 72,
     "metadata": {},
     "output_type": "execute_result"
    }
   ],
   "source": [
    "a.strip()"
   ]
  },
  {
   "cell_type": "code",
   "execution_count": 73,
   "id": "fbfbaa43",
   "metadata": {},
   "outputs": [
    {
     "data": {
      "text/plain": [
       "'Kulsum '"
      ]
     },
     "execution_count": 73,
     "metadata": {},
     "output_type": "execute_result"
    }
   ],
   "source": [
    "a.lstrip()"
   ]
  },
  {
   "cell_type": "code",
   "execution_count": 74,
   "id": "eea7b806",
   "metadata": {},
   "outputs": [
    {
     "data": {
      "text/plain": [
       "' Kulsum'"
      ]
     },
     "execution_count": 74,
     "metadata": {},
     "output_type": "execute_result"
    }
   ],
   "source": [
    "a.rstrip()"
   ]
  },
  {
   "cell_type": "code",
   "execution_count": 75,
   "id": "94ec9e57",
   "metadata": {},
   "outputs": [
    {
     "ename": "AttributeError",
     "evalue": "'str' object has no attribute 'abcd'",
     "output_type": "error",
     "traceback": [
      "\u001b[0;31m---------------------------------------------------------------------------\u001b[0m",
      "\u001b[0;31mAttributeError\u001b[0m                            Traceback (most recent call last)",
      "\u001b[0;32m/var/folders/fh/8wlf5_bd2hg7ys59grg30w180000gn/T/ipykernel_4913/3903492604.py\u001b[0m in \u001b[0;36m<module>\u001b[0;34m\u001b[0m\n\u001b[0;32m----> 1\u001b[0;31m \u001b[0ma\u001b[0m\u001b[0;34m.\u001b[0m\u001b[0mabcd\u001b[0m\u001b[0;34m\u001b[0m\u001b[0;34m\u001b[0m\u001b[0m\n\u001b[0m",
      "\u001b[0;31mAttributeError\u001b[0m: 'str' object has no attribute 'abcd'"
     ]
    }
   ],
   "source": [
    "a.abcd"
   ]
  },
  {
   "cell_type": "code",
   "execution_count": 76,
   "id": "9e990871",
   "metadata": {},
   "outputs": [
    {
     "data": {
      "text/plain": [
       "'Whatever dude'"
      ]
     },
     "execution_count": 76,
     "metadata": {},
     "output_type": "execute_result"
    }
   ],
   "source": [
    "a=\"WhAtEvEr DuDe\"\n",
    "a.capitalize()"
   ]
  },
  {
   "cell_type": "code",
   "execution_count": 77,
   "id": "702a8b22",
   "metadata": {},
   "outputs": [
    {
     "data": {
      "text/plain": [
       "'Whatever Dude'"
      ]
     },
     "execution_count": 77,
     "metadata": {},
     "output_type": "execute_result"
    }
   ],
   "source": [
    "a.title()"
   ]
  },
  {
   "cell_type": "code",
   "execution_count": 78,
   "id": "08a1fb66",
   "metadata": {},
   "outputs": [
    {
     "data": {
      "text/plain": [
       "'WHATEVER DUDE'"
      ]
     },
     "execution_count": 78,
     "metadata": {},
     "output_type": "execute_result"
    }
   ],
   "source": [
    "a.upper()"
   ]
  },
  {
   "cell_type": "code",
   "execution_count": 79,
   "id": "bc8a3853",
   "metadata": {},
   "outputs": [
    {
     "data": {
      "text/plain": [
       "'whatever dude'"
      ]
     },
     "execution_count": 79,
     "metadata": {},
     "output_type": "execute_result"
    }
   ],
   "source": [
    "a.lower()"
   ]
  },
  {
   "cell_type": "code",
   "execution_count": 80,
   "id": "4abe0c1f",
   "metadata": {},
   "outputs": [
    {
     "data": {
      "text/plain": [
       "1"
      ]
     },
     "execution_count": 80,
     "metadata": {},
     "output_type": "execute_result"
    }
   ],
   "source": [
    "a.find(\"h\")"
   ]
  },
  {
   "cell_type": "code",
   "execution_count": 81,
   "id": "a11519d1",
   "metadata": {},
   "outputs": [
    {
     "data": {
      "text/plain": [
       "6"
      ]
     },
     "execution_count": 81,
     "metadata": {},
     "output_type": "execute_result"
    }
   ],
   "source": [
    "a.find(\"Er\")"
   ]
  },
  {
   "cell_type": "code",
   "execution_count": 82,
   "id": "82ab53e6",
   "metadata": {},
   "outputs": [
    {
     "data": {
      "text/plain": [
       "-1"
      ]
     },
     "execution_count": 82,
     "metadata": {},
     "output_type": "execute_result"
    }
   ],
   "source": [
    "a.find(\"cat\")\n",
    "#If the value is not available then -1 is the output"
   ]
  },
  {
   "cell_type": "code",
   "execution_count": 83,
   "id": "251003ca",
   "metadata": {},
   "outputs": [
    {
     "data": {
      "text/plain": [
       "2"
      ]
     },
     "execution_count": 83,
     "metadata": {},
     "output_type": "execute_result"
    }
   ],
   "source": [
    "a.count(\"E\")"
   ]
  },
  {
   "cell_type": "code",
   "execution_count": 84,
   "id": "3de101c2",
   "metadata": {},
   "outputs": [
    {
     "data": {
      "text/plain": [
       "['My', 'name', 'is', 'Ash']"
      ]
     },
     "execution_count": 84,
     "metadata": {},
     "output_type": "execute_result"
    }
   ],
   "source": [
    "me=(\"My name is Ash\")\n",
    "me.split()"
   ]
  },
  {
   "cell_type": "code",
   "execution_count": 85,
   "id": "b41b6ee9",
   "metadata": {},
   "outputs": [
    {
     "data": {
      "text/plain": [
       "'DataScience'"
      ]
     },
     "execution_count": 85,
     "metadata": {},
     "output_type": "execute_result"
    }
   ],
   "source": [
    "a=[\"Data\",\"Science\"]\n",
    "''.join(a)"
   ]
  },
  {
   "cell_type": "code",
   "execution_count": 86,
   "id": "19440610",
   "metadata": {},
   "outputs": [
    {
     "name": "stdout",
     "output_type": "stream",
     "text": [
      "Happy Birthday\n"
     ]
    },
    {
     "data": {
      "text/plain": [
       "140190685907632"
      ]
     },
     "execution_count": 86,
     "metadata": {},
     "output_type": "execute_result"
    }
   ],
   "source": [
    "s1=\"Happy Birthday\"\n",
    "print(s1)\n",
    "type(s1)\n",
    "id(s1)"
   ]
  },
  {
   "cell_type": "code",
   "execution_count": 87,
   "id": "6576c2fd",
   "metadata": {},
   "outputs": [
    {
     "name": "stdout",
     "output_type": "stream",
     "text": [
      "Sad Birthday\n"
     ]
    },
    {
     "data": {
      "text/plain": [
       "140190417009584"
      ]
     },
     "execution_count": 87,
     "metadata": {},
     "output_type": "execute_result"
    }
   ],
   "source": [
    "s1=s1.replace(\"Happy\", \"Sad\")\n",
    "print(s1)\n",
    "type(s1)\n",
    "id(s1)"
   ]
  },
  {
   "cell_type": "code",
   "execution_count": 88,
   "id": "3351f5b2",
   "metadata": {},
   "outputs": [
    {
     "name": "stdout",
     "output_type": "stream",
     "text": [
      "False\n"
     ]
    }
   ],
   "source": [
    "My_String=\"Ayesha23297\"\n",
    "print(My_String.isdigit())"
   ]
  },
  {
   "cell_type": "code",
   "execution_count": 89,
   "id": "f81738d6",
   "metadata": {},
   "outputs": [
    {
     "name": "stdout",
     "output_type": "stream",
     "text": [
      "True\n"
     ]
    }
   ],
   "source": [
    "My_String=\"Ayesha23297\"\n",
    "print(My_String.isalnum())"
   ]
  },
  {
   "cell_type": "code",
   "execution_count": 90,
   "id": "2349caee",
   "metadata": {},
   "outputs": [
    {
     "name": "stdout",
     "output_type": "stream",
     "text": [
      "False\n"
     ]
    }
   ],
   "source": [
    "print(My_String.isalpha())"
   ]
  },
  {
   "cell_type": "code",
   "execution_count": 91,
   "id": "ac443403",
   "metadata": {},
   "outputs": [
    {
     "name": "stdout",
     "output_type": "stream",
     "text": [
      "True\n"
     ]
    }
   ],
   "source": [
    "print(My_String.istitle())"
   ]
  },
  {
   "cell_type": "code",
   "execution_count": 92,
   "id": "c3d30977",
   "metadata": {},
   "outputs": [
    {
     "name": "stdout",
     "output_type": "stream",
     "text": [
      "False\n"
     ]
    }
   ],
   "source": [
    "print(My_String.isupper())"
   ]
  },
  {
   "cell_type": "code",
   "execution_count": 93,
   "id": "e24d977c",
   "metadata": {},
   "outputs": [
    {
     "name": "stdout",
     "output_type": "stream",
     "text": [
      "False\n"
     ]
    }
   ],
   "source": [
    "print(My_String.islower())"
   ]
  },
  {
   "cell_type": "code",
   "execution_count": 94,
   "id": "e3df67c3",
   "metadata": {},
   "outputs": [
    {
     "name": "stdout",
     "output_type": "stream",
     "text": [
      "False\n"
     ]
    }
   ],
   "source": [
    "print(My_String.isspace())"
   ]
  },
  {
   "cell_type": "code",
   "execution_count": 95,
   "id": "e90bf081",
   "metadata": {},
   "outputs": [
    {
     "name": "stdout",
     "output_type": "stream",
     "text": [
      "False\n"
     ]
    }
   ],
   "source": [
    "print(My_String.endswith(\"f\"))"
   ]
  },
  {
   "cell_type": "code",
   "execution_count": 96,
   "id": "60f2f81f",
   "metadata": {},
   "outputs": [
    {
     "name": "stdout",
     "output_type": "stream",
     "text": [
      "True\n"
     ]
    }
   ],
   "source": [
    "print(My_String.startswith(\"A\"))"
   ]
  }
 ],
 "metadata": {
  "kernelspec": {
   "display_name": "Python 3 (ipykernel)",
   "language": "python",
   "name": "python3"
  },
  "language_info": {
   "codemirror_mode": {
    "name": "ipython",
    "version": 3
   },
   "file_extension": ".py",
   "mimetype": "text/x-python",
   "name": "python",
   "nbconvert_exporter": "python",
   "pygments_lexer": "ipython3",
   "version": "3.11.5"
  }
 },
 "nbformat": 4,
 "nbformat_minor": 5
}
