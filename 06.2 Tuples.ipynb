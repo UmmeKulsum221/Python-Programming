{
 "cells": [
  {
   "cell_type": "markdown",
   "id": "dd504029",
   "metadata": {},
   "source": [
    "# Tuples\n",
    "1. Tuple is like lists, except tuples are immutable, which means we can’t change the elements of tuples once assigned\n",
    "2. When we do not want to change the data over time, a tuple is the preferred data type.\n",
    "3. Iterating over the elements of a tuple is faster compared to iterating to list"
   ]
  },
  {
   "cell_type": "markdown",
   "id": "cb7de4be",
   "metadata": {},
   "source": [
    "## Empty Tuples"
   ]
  },
  {
   "cell_type": "code",
   "execution_count": 1,
   "id": "d030e6b4",
   "metadata": {},
   "outputs": [
    {
     "data": {
      "text/plain": [
       "()"
      ]
     },
     "execution_count": 1,
     "metadata": {},
     "output_type": "execute_result"
    }
   ],
   "source": [
    "tup1=()\n",
    "tup1"
   ]
  },
  {
   "cell_type": "code",
   "execution_count": 2,
   "id": "1930195f",
   "metadata": {},
   "outputs": [
    {
     "data": {
      "text/plain": [
       "tuple"
      ]
     },
     "execution_count": 2,
     "metadata": {},
     "output_type": "execute_result"
    }
   ],
   "source": [
    "type(tup1)"
   ]
  },
  {
   "cell_type": "code",
   "execution_count": 3,
   "id": "675a3835",
   "metadata": {},
   "outputs": [
    {
     "data": {
      "text/plain": [
       "()"
      ]
     },
     "execution_count": 3,
     "metadata": {},
     "output_type": "execute_result"
    }
   ],
   "source": [
    "tup2=tuple()\n",
    "tup2"
   ]
  },
  {
   "cell_type": "markdown",
   "id": "a08871b2",
   "metadata": {},
   "source": [
    "## Tuples are heterogenous"
   ]
  },
  {
   "cell_type": "code",
   "execution_count": 4,
   "id": "eafd3d9b",
   "metadata": {},
   "outputs": [
    {
     "data": {
      "text/plain": [
       "tuple"
      ]
     },
     "execution_count": 4,
     "metadata": {},
     "output_type": "execute_result"
    }
   ],
   "source": [
    "t=(1,2,3,4,1+24j, True, False, \"Sasha\",[1,8])\n",
    "type(t)"
   ]
  },
  {
   "cell_type": "markdown",
   "id": "ad204300",
   "metadata": {},
   "source": [
    "## Nested Tuple"
   ]
  },
  {
   "cell_type": "code",
   "execution_count": 5,
   "id": "3a960090",
   "metadata": {},
   "outputs": [],
   "source": [
    "nes = (1,2,(9,0),0)\n"
   ]
  },
  {
   "cell_type": "code",
   "execution_count": 6,
   "id": "aae26256",
   "metadata": {},
   "outputs": [
    {
     "data": {
      "text/plain": [
       "(1, 2, (9, 0), 0)"
      ]
     },
     "execution_count": 6,
     "metadata": {},
     "output_type": "execute_result"
    }
   ],
   "source": [
    "nes"
   ]
  },
  {
   "cell_type": "code",
   "execution_count": 7,
   "id": "ac01c71e",
   "metadata": {},
   "outputs": [
    {
     "data": {
      "text/plain": [
       "4"
      ]
     },
     "execution_count": 7,
     "metadata": {},
     "output_type": "execute_result"
    }
   ],
   "source": [
    "t1=(1,2,[3,4,[5,6],7,8],(9,10))\n",
    "t1\n",
    "len(t1)"
   ]
  },
  {
   "cell_type": "markdown",
   "id": "b6d1e2de",
   "metadata": {},
   "source": [
    "## Tuple indexing"
   ]
  },
  {
   "cell_type": "code",
   "execution_count": 8,
   "id": "974f4eb8",
   "metadata": {},
   "outputs": [
    {
     "data": {
      "text/plain": [
       "1"
      ]
     },
     "execution_count": 8,
     "metadata": {},
     "output_type": "execute_result"
    }
   ],
   "source": [
    "t1[0]"
   ]
  },
  {
   "cell_type": "code",
   "execution_count": 9,
   "id": "87873a89",
   "metadata": {},
   "outputs": [
    {
     "data": {
      "text/plain": [
       "2"
      ]
     },
     "execution_count": 9,
     "metadata": {},
     "output_type": "execute_result"
    }
   ],
   "source": [
    "t1[1]"
   ]
  },
  {
   "cell_type": "code",
   "execution_count": 10,
   "id": "5c3baacb",
   "metadata": {},
   "outputs": [
    {
     "data": {
      "text/plain": [
       "[3, 4, [5, 6], 7, 8]"
      ]
     },
     "execution_count": 10,
     "metadata": {},
     "output_type": "execute_result"
    }
   ],
   "source": [
    "t1[2]"
   ]
  },
  {
   "cell_type": "code",
   "execution_count": 11,
   "id": "2327d8f8",
   "metadata": {},
   "outputs": [
    {
     "data": {
      "text/plain": [
       "3"
      ]
     },
     "execution_count": 11,
     "metadata": {},
     "output_type": "execute_result"
    }
   ],
   "source": [
    "t1[2][0]"
   ]
  },
  {
   "cell_type": "code",
   "execution_count": 12,
   "id": "12413f76",
   "metadata": {},
   "outputs": [
    {
     "data": {
      "text/plain": [
       "4"
      ]
     },
     "execution_count": 12,
     "metadata": {},
     "output_type": "execute_result"
    }
   ],
   "source": [
    "t1[2][1]"
   ]
  },
  {
   "cell_type": "code",
   "execution_count": 13,
   "id": "f86f83e2",
   "metadata": {},
   "outputs": [
    {
     "data": {
      "text/plain": [
       "[5, 6]"
      ]
     },
     "execution_count": 13,
     "metadata": {},
     "output_type": "execute_result"
    }
   ],
   "source": [
    "t1[2][2]"
   ]
  },
  {
   "cell_type": "code",
   "execution_count": 14,
   "id": "5882121d",
   "metadata": {},
   "outputs": [
    {
     "data": {
      "text/plain": [
       "5"
      ]
     },
     "execution_count": 14,
     "metadata": {},
     "output_type": "execute_result"
    }
   ],
   "source": [
    "t1[2][2][0]"
   ]
  },
  {
   "cell_type": "code",
   "execution_count": 15,
   "id": "0abe68ee",
   "metadata": {},
   "outputs": [
    {
     "data": {
      "text/plain": [
       "6"
      ]
     },
     "execution_count": 15,
     "metadata": {},
     "output_type": "execute_result"
    }
   ],
   "source": [
    "t1[2][2][1]"
   ]
  },
  {
   "cell_type": "code",
   "execution_count": 16,
   "id": "01fdf190",
   "metadata": {},
   "outputs": [
    {
     "data": {
      "text/plain": [
       "7"
      ]
     },
     "execution_count": 16,
     "metadata": {},
     "output_type": "execute_result"
    }
   ],
   "source": [
    "t1[2][3]"
   ]
  },
  {
   "cell_type": "code",
   "execution_count": 17,
   "id": "5fa5d27f",
   "metadata": {},
   "outputs": [
    {
     "data": {
      "text/plain": [
       "8"
      ]
     },
     "execution_count": 17,
     "metadata": {},
     "output_type": "execute_result"
    }
   ],
   "source": [
    "t1[2][4]"
   ]
  },
  {
   "cell_type": "code",
   "execution_count": 18,
   "id": "9da6915b",
   "metadata": {},
   "outputs": [
    {
     "data": {
      "text/plain": [
       "(9, 10)"
      ]
     },
     "execution_count": 18,
     "metadata": {},
     "output_type": "execute_result"
    }
   ],
   "source": [
    "t1[3]"
   ]
  },
  {
   "cell_type": "code",
   "execution_count": 19,
   "id": "fbae3b52",
   "metadata": {},
   "outputs": [
    {
     "data": {
      "text/plain": [
       "9"
      ]
     },
     "execution_count": 19,
     "metadata": {},
     "output_type": "execute_result"
    }
   ],
   "source": [
    "t1[3][0]"
   ]
  },
  {
   "cell_type": "code",
   "execution_count": 20,
   "id": "4fcdde04",
   "metadata": {},
   "outputs": [
    {
     "data": {
      "text/plain": [
       "10"
      ]
     },
     "execution_count": 20,
     "metadata": {},
     "output_type": "execute_result"
    }
   ],
   "source": [
    "t1[3][1]"
   ]
  },
  {
   "cell_type": "markdown",
   "id": "ad09eab0",
   "metadata": {},
   "source": [
    "## Tuple Slicing"
   ]
  },
  {
   "cell_type": "code",
   "execution_count": 22,
   "id": "1ab36cbd",
   "metadata": {},
   "outputs": [
    {
     "data": {
      "text/plain": [
       "(1, 2, [3, 4, [5, 6], 7, 8], (9, 10))"
      ]
     },
     "execution_count": 22,
     "metadata": {},
     "output_type": "execute_result"
    }
   ],
   "source": [
    "t1=(1,2,[3,4,[5,6],7,8],(9,10))\n",
    "t1"
   ]
  },
  {
   "cell_type": "code",
   "execution_count": 23,
   "id": "72d3e889",
   "metadata": {},
   "outputs": [
    {
     "data": {
      "text/plain": [
       "(1, 2, [3, 4, [5, 6], 7, 8])"
      ]
     },
     "execution_count": 23,
     "metadata": {},
     "output_type": "execute_result"
    }
   ],
   "source": [
    "t1[0:3]"
   ]
  },
  {
   "cell_type": "code",
   "execution_count": 24,
   "id": "388ad4e4",
   "metadata": {},
   "outputs": [
    {
     "data": {
      "text/plain": [
       "(1, 2)"
      ]
     },
     "execution_count": 24,
     "metadata": {},
     "output_type": "execute_result"
    }
   ],
   "source": [
    "t1[0:2]"
   ]
  },
  {
   "cell_type": "markdown",
   "id": "b3a427f2",
   "metadata": {},
   "source": [
    "## Tuples are immutable"
   ]
  },
  {
   "cell_type": "code",
   "execution_count": null,
   "id": "7ed59055",
   "metadata": {},
   "outputs": [],
   "source": [
    "a=(1,2,3,4,5,6)\n",
    "a[0]"
   ]
  },
  {
   "cell_type": "code",
   "execution_count": null,
   "id": "e1fff35c",
   "metadata": {},
   "outputs": [],
   "source": [
    "del a[0]"
   ]
  },
  {
   "cell_type": "code",
   "execution_count": null,
   "id": "fcb63cee",
   "metadata": {},
   "outputs": [],
   "source": [
    "a[0]=10"
   ]
  },
  {
   "cell_type": "code",
   "execution_count": null,
   "id": "50c32e8a",
   "metadata": {},
   "outputs": [],
   "source": [
    "a=(1,2,3,4,5,6)\n",
    "del a"
   ]
  },
  {
   "cell_type": "markdown",
   "id": "98a4ef6c",
   "metadata": {},
   "source": [
    "## Interview Questions"
   ]
  },
  {
   "cell_type": "code",
   "execution_count": null,
   "id": "8f69a349",
   "metadata": {},
   "outputs": [],
   "source": [
    "The most asked interview question"
   ]
  },
  {
   "cell_type": "code",
   "execution_count": null,
   "id": "39d64c3a",
   "metadata": {},
   "outputs": [],
   "source": [
    "#the tuple contains list of [4,5] which are mutable and can be changed\n",
    "tup=(1,2,3,[4,5],(6,7,8))\n",
    "tup[3]"
   ]
  },
  {
   "cell_type": "code",
   "execution_count": null,
   "id": "9fc92dbf",
   "metadata": {},
   "outputs": [],
   "source": [
    "a=tup[3]\n",
    "a"
   ]
  },
  {
   "cell_type": "code",
   "execution_count": null,
   "id": "6f963622",
   "metadata": {},
   "outputs": [],
   "source": [
    "a.append(10)\n",
    "a"
   ]
  },
  {
   "cell_type": "code",
   "execution_count": null,
   "id": "03bd8230",
   "metadata": {},
   "outputs": [],
   "source": [
    "tup"
   ]
  },
  {
   "cell_type": "markdown",
   "id": "32cb2541",
   "metadata": {},
   "source": [
    "## Tuple Methods"
   ]
  },
  {
   "cell_type": "code",
   "execution_count": null,
   "id": "dcc9186b",
   "metadata": {},
   "outputs": [],
   "source": [
    "s=(1,2,3,4,1,2,3,4)\n",
    "s.count(1)"
   ]
  },
  {
   "cell_type": "code",
   "execution_count": null,
   "id": "e6555973",
   "metadata": {},
   "outputs": [],
   "source": [
    "s.index(2)"
   ]
  },
  {
   "cell_type": "code",
   "execution_count": null,
   "id": "90d6f8a4",
   "metadata": {},
   "outputs": [],
   "source": [
    "a=(1,54,65,34,32,7,567,56,765)\n",
    "tuple(sorted(a))\n",
    "# original data is changed to sorted"
   ]
  },
  {
   "cell_type": "code",
   "execution_count": null,
   "id": "0a6d696b",
   "metadata": {},
   "outputs": [],
   "source": [
    "tuple(sorted(a))"
   ]
  },
  {
   "cell_type": "code",
   "execution_count": null,
   "id": "feb4cbf1",
   "metadata": {},
   "outputs": [],
   "source": [
    "sorted(a)\n",
    "#original data is not changed"
   ]
  }
 ],
 "metadata": {
  "kernelspec": {
   "display_name": "Python 3 (ipykernel)",
   "language": "python",
   "name": "python3"
  },
  "language_info": {
   "codemirror_mode": {
    "name": "ipython",
    "version": 3
   },
   "file_extension": ".py",
   "mimetype": "text/x-python",
   "name": "python",
   "nbconvert_exporter": "python",
   "pygments_lexer": "ipython3",
   "version": "3.11.5"
  }
 },
 "nbformat": 4,
 "nbformat_minor": 5
}
